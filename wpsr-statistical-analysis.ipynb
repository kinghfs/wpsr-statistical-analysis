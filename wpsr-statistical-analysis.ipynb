{
 "cells": [
  {
   "cell_type": "markdown",
   "metadata": {},
   "source": [
    "<h1><center>Does the EIA Weekly Petroleum Stock Report <br><i>really</i> impact Crude Oil price?</center></h1>"
   ]
  },
  {
   "cell_type": "code",
   "execution_count": 1,
   "metadata": {},
   "outputs": [],
   "source": [
    "import pandas as pd\n",
    "import numpy as np\n",
    "import datetime as dt\n",
    "\n",
    "import pytz\n",
    "import matplotlib.pyplot as plt\n",
    "import matplotlib.dates as mdates\n",
    "\n",
    "wall_st = pytz.timezone(\"America/New_York\")"
   ]
  },
  {
   "cell_type": "markdown",
   "metadata": {},
   "source": [
    "<h2>WPSR Inventory Data</h2>"
   ]
  },
  {
   "cell_type": "code",
   "execution_count": 2,
   "metadata": {},
   "outputs": [],
   "source": [
    "inv = pd.read_csv(\"./eia_wpsr.csv\", usecols=['Report Date', 'Crude Oil', 'SPR'])"
   ]
  },
  {
   "cell_type": "code",
   "execution_count": 3,
   "metadata": {},
   "outputs": [
    {
     "data": {
      "text/html": [
       "<div>\n",
       "<style scoped>\n",
       "    .dataframe tbody tr th:only-of-type {\n",
       "        vertical-align: middle;\n",
       "    }\n",
       "\n",
       "    .dataframe tbody tr th {\n",
       "        vertical-align: top;\n",
       "    }\n",
       "\n",
       "    .dataframe thead th {\n",
       "        text-align: right;\n",
       "    }\n",
       "</style>\n",
       "<table border=\"1\" class=\"dataframe\">\n",
       "  <thead>\n",
       "    <tr style=\"text-align: right;\">\n",
       "      <th></th>\n",
       "      <th>Report Date</th>\n",
       "      <th>Crude Oil</th>\n",
       "      <th>SPR</th>\n",
       "    </tr>\n",
       "  </thead>\n",
       "  <tbody>\n",
       "    <tr>\n",
       "      <th>0</th>\n",
       "      <td>2011-08-03</td>\n",
       "      <td>1074.736</td>\n",
       "      <td>719.761</td>\n",
       "    </tr>\n",
       "    <tr>\n",
       "      <th>1</th>\n",
       "      <td>2011-08-10</td>\n",
       "      <td>1067.017</td>\n",
       "      <td>717.267</td>\n",
       "    </tr>\n",
       "    <tr>\n",
       "      <th>2</th>\n",
       "      <td>2011-08-17</td>\n",
       "      <td>1065.336</td>\n",
       "      <td>711.353</td>\n",
       "    </tr>\n",
       "  </tbody>\n",
       "</table>\n",
       "</div>"
      ],
      "text/plain": [
       "  Report Date  Crude Oil      SPR\n",
       "0  2011-08-03   1074.736  719.761\n",
       "1  2011-08-10   1067.017  717.267\n",
       "2  2011-08-17   1065.336  711.353"
      ]
     },
     "execution_count": 3,
     "metadata": {},
     "output_type": "execute_result"
    }
   ],
   "source": [
    "inv.head(3)"
   ]
  },
  {
   "cell_type": "code",
   "execution_count": 4,
   "metadata": {},
   "outputs": [],
   "source": [
    "inv = inv.set_index('Report Date')\n",
    "inv.index = pd.to_datetime(inv.index, format='%Y-%m-%d').tz_localize(wall_st)\n",
    "inv = inv.sort_index()"
   ]
  },
  {
   "cell_type": "code",
   "execution_count": 5,
   "metadata": {},
   "outputs": [
    {
     "data": {
      "text/html": [
       "<div>\n",
       "<style scoped>\n",
       "    .dataframe tbody tr th:only-of-type {\n",
       "        vertical-align: middle;\n",
       "    }\n",
       "\n",
       "    .dataframe tbody tr th {\n",
       "        vertical-align: top;\n",
       "    }\n",
       "\n",
       "    .dataframe thead th {\n",
       "        text-align: right;\n",
       "    }\n",
       "</style>\n",
       "<table border=\"1\" class=\"dataframe\">\n",
       "  <thead>\n",
       "    <tr style=\"text-align: right;\">\n",
       "      <th></th>\n",
       "      <th>Crude Oil</th>\n",
       "      <th>SPR</th>\n",
       "    </tr>\n",
       "    <tr>\n",
       "      <th>Report Date</th>\n",
       "      <th></th>\n",
       "      <th></th>\n",
       "    </tr>\n",
       "  </thead>\n",
       "  <tbody>\n",
       "    <tr>\n",
       "      <th>2011-08-03 00:00:00-04:00</th>\n",
       "      <td>1074.736</td>\n",
       "      <td>719.761</td>\n",
       "    </tr>\n",
       "    <tr>\n",
       "      <th>2011-08-10 00:00:00-04:00</th>\n",
       "      <td>1067.017</td>\n",
       "      <td>717.267</td>\n",
       "    </tr>\n",
       "  </tbody>\n",
       "</table>\n",
       "</div>"
      ],
      "text/plain": [
       "                           Crude Oil      SPR\n",
       "Report Date                                  \n",
       "2011-08-03 00:00:00-04:00   1074.736  719.761\n",
       "2011-08-10 00:00:00-04:00   1067.017  717.267"
      ]
     },
     "execution_count": 5,
     "metadata": {},
     "output_type": "execute_result"
    }
   ],
   "source": [
    "inv.head(2)"
   ]
  },
  {
   "cell_type": "markdown",
   "metadata": {},
   "source": [
    "<h4>Calculate weekly draw/build of Commercial inventories</h4>"
   ]
  },
  {
   "cell_type": "code",
   "execution_count": 6,
   "metadata": {},
   "outputs": [],
   "source": [
    "inv['Commercial Crude (Excluding SPR)'] = inv['Crude Oil'] - inv['SPR']"
   ]
  },
  {
   "cell_type": "code",
   "execution_count": 7,
   "metadata": {},
   "outputs": [],
   "source": [
    "inv['Weekly Commercial Draw/Build'] = inv['Commercial Crude (Excluding SPR)'].diff()"
   ]
  },
  {
   "cell_type": "code",
   "execution_count": 8,
   "metadata": {},
   "outputs": [
    {
     "data": {
      "text/html": [
       "<div>\n",
       "<style scoped>\n",
       "    .dataframe tbody tr th:only-of-type {\n",
       "        vertical-align: middle;\n",
       "    }\n",
       "\n",
       "    .dataframe tbody tr th {\n",
       "        vertical-align: top;\n",
       "    }\n",
       "\n",
       "    .dataframe thead th {\n",
       "        text-align: right;\n",
       "    }\n",
       "</style>\n",
       "<table border=\"1\" class=\"dataframe\">\n",
       "  <thead>\n",
       "    <tr style=\"text-align: right;\">\n",
       "      <th></th>\n",
       "      <th>Crude Oil</th>\n",
       "      <th>SPR</th>\n",
       "      <th>Commercial Crude (Excluding SPR)</th>\n",
       "      <th>Weekly Commercial Draw/Build</th>\n",
       "    </tr>\n",
       "    <tr>\n",
       "      <th>Report Date</th>\n",
       "      <th></th>\n",
       "      <th></th>\n",
       "      <th></th>\n",
       "      <th></th>\n",
       "    </tr>\n",
       "  </thead>\n",
       "  <tbody>\n",
       "    <tr>\n",
       "      <th>2011-08-03 00:00:00-04:00</th>\n",
       "      <td>1074.736</td>\n",
       "      <td>719.761</td>\n",
       "      <td>354.975</td>\n",
       "      <td>NaN</td>\n",
       "    </tr>\n",
       "    <tr>\n",
       "      <th>2011-08-10 00:00:00-04:00</th>\n",
       "      <td>1067.017</td>\n",
       "      <td>717.267</td>\n",
       "      <td>349.750</td>\n",
       "      <td>-5.225</td>\n",
       "    </tr>\n",
       "    <tr>\n",
       "      <th>2011-08-17 00:00:00-04:00</th>\n",
       "      <td>1065.336</td>\n",
       "      <td>711.353</td>\n",
       "      <td>353.983</td>\n",
       "      <td>4.233</td>\n",
       "    </tr>\n",
       "    <tr>\n",
       "      <th>2011-08-24 00:00:00-04:00</th>\n",
       "      <td>1058.321</td>\n",
       "      <td>706.551</td>\n",
       "      <td>351.770</td>\n",
       "      <td>-2.213</td>\n",
       "    </tr>\n",
       "    <tr>\n",
       "      <th>2011-08-31 00:00:00-04:00</th>\n",
       "      <td>1058.876</td>\n",
       "      <td>701.825</td>\n",
       "      <td>357.051</td>\n",
       "      <td>5.281</td>\n",
       "    </tr>\n",
       "  </tbody>\n",
       "</table>\n",
       "</div>"
      ],
      "text/plain": [
       "                           Crude Oil      SPR  \\\n",
       "Report Date                                     \n",
       "2011-08-03 00:00:00-04:00   1074.736  719.761   \n",
       "2011-08-10 00:00:00-04:00   1067.017  717.267   \n",
       "2011-08-17 00:00:00-04:00   1065.336  711.353   \n",
       "2011-08-24 00:00:00-04:00   1058.321  706.551   \n",
       "2011-08-31 00:00:00-04:00   1058.876  701.825   \n",
       "\n",
       "                           Commercial Crude (Excluding SPR)  \\\n",
       "Report Date                                                   \n",
       "2011-08-03 00:00:00-04:00                           354.975   \n",
       "2011-08-10 00:00:00-04:00                           349.750   \n",
       "2011-08-17 00:00:00-04:00                           353.983   \n",
       "2011-08-24 00:00:00-04:00                           351.770   \n",
       "2011-08-31 00:00:00-04:00                           357.051   \n",
       "\n",
       "                           Weekly Commercial Draw/Build  \n",
       "Report Date                                              \n",
       "2011-08-03 00:00:00-04:00                           NaN  \n",
       "2011-08-10 00:00:00-04:00                        -5.225  \n",
       "2011-08-17 00:00:00-04:00                         4.233  \n",
       "2011-08-24 00:00:00-04:00                        -2.213  \n",
       "2011-08-31 00:00:00-04:00                         5.281  "
      ]
     },
     "execution_count": 8,
     "metadata": {},
     "output_type": "execute_result"
    }
   ],
   "source": [
    "inv.head()"
   ]
  },
  {
   "cell_type": "code",
   "execution_count": 9,
   "metadata": {},
   "outputs": [],
   "source": [
    "# drop first report where change is unknown\n",
    "inv = inv.dropna()"
   ]
  },
  {
   "cell_type": "code",
   "execution_count": 10,
   "metadata": {},
   "outputs": [],
   "source": [
    "# we can use the report dates DatetimeIndex for a trick shortly\n",
    "report_dates = inv.index"
   ]
  },
  {
   "cell_type": "markdown",
   "metadata": {},
   "source": [
    "<h2>WTI Spot Price Data</h2>"
   ]
  },
  {
   "cell_type": "markdown",
   "metadata": {},
   "source": [
    "We want to know what the overall market impact (i.e. total change percentage) of a report is in the days following its release, until the next report."
   ]
  },
  {
   "cell_type": "code",
   "execution_count": 11,
   "metadata": {},
   "outputs": [
    {
     "name": "stdout",
     "output_type": "stream",
     "text": [
      "First Inventory: 2011-08-10 00:00:00-04:00 \t Last Inventory: 2024-05-01 00:00:00-04:00\n"
     ]
    }
   ],
   "source": [
    "first_inventory_date = inv.index.min()\n",
    "last_inventory_date = inv.index.max()\n",
    "print(f\"First Inventory: {first_inventory_date} \\t Last Inventory: {last_inventory_date}\")"
   ]
  },
  {
   "cell_type": "code",
   "execution_count": 12,
   "metadata": {},
   "outputs": [],
   "source": [
    "today = dt.datetime.now(tz=wall_st)\n",
    "days_per_year = 365.2425\n",
    "years_ago = int(( today - first_inventory_date).days // days_per_year) + 1"
   ]
  },
  {
   "cell_type": "code",
   "execution_count": 13,
   "metadata": {},
   "outputs": [],
   "source": [
    "import yfinance as yf"
   ]
  },
  {
   "cell_type": "code",
   "execution_count": 14,
   "metadata": {},
   "outputs": [],
   "source": [
    "# get relevant historical market data from Yahoo Finance\n",
    "wti = yf.Ticker(\"CL=F\")\n",
    "hist = wti.history(period=f\"{years_ago}y\")"
   ]
  },
  {
   "cell_type": "code",
   "execution_count": 15,
   "metadata": {},
   "outputs": [
    {
     "data": {
      "text/html": [
       "<div>\n",
       "<style scoped>\n",
       "    .dataframe tbody tr th:only-of-type {\n",
       "        vertical-align: middle;\n",
       "    }\n",
       "\n",
       "    .dataframe tbody tr th {\n",
       "        vertical-align: top;\n",
       "    }\n",
       "\n",
       "    .dataframe thead th {\n",
       "        text-align: right;\n",
       "    }\n",
       "</style>\n",
       "<table border=\"1\" class=\"dataframe\">\n",
       "  <thead>\n",
       "    <tr style=\"text-align: right;\">\n",
       "      <th></th>\n",
       "      <th>Open</th>\n",
       "      <th>High</th>\n",
       "      <th>Low</th>\n",
       "      <th>Close</th>\n",
       "      <th>Volume</th>\n",
       "      <th>Dividends</th>\n",
       "      <th>Stock Splits</th>\n",
       "    </tr>\n",
       "    <tr>\n",
       "      <th>Date</th>\n",
       "      <th></th>\n",
       "      <th></th>\n",
       "      <th></th>\n",
       "      <th></th>\n",
       "      <th></th>\n",
       "      <th></th>\n",
       "      <th></th>\n",
       "    </tr>\n",
       "  </thead>\n",
       "  <tbody>\n",
       "    <tr>\n",
       "      <th>2011-05-05 00:00:00-04:00</th>\n",
       "      <td>108.779999</td>\n",
       "      <td>109.379997</td>\n",
       "      <td>98.250000</td>\n",
       "      <td>99.800003</td>\n",
       "      <td>670082</td>\n",
       "      <td>0.0</td>\n",
       "      <td>0.0</td>\n",
       "    </tr>\n",
       "    <tr>\n",
       "      <th>2011-05-06 00:00:00-04:00</th>\n",
       "      <td>99.760002</td>\n",
       "      <td>102.379997</td>\n",
       "      <td>94.629997</td>\n",
       "      <td>97.180000</td>\n",
       "      <td>606528</td>\n",
       "      <td>0.0</td>\n",
       "      <td>0.0</td>\n",
       "    </tr>\n",
       "    <tr>\n",
       "      <th>2011-05-09 00:00:00-04:00</th>\n",
       "      <td>98.110001</td>\n",
       "      <td>103.400002</td>\n",
       "      <td>97.419998</td>\n",
       "      <td>102.550003</td>\n",
       "      <td>469290</td>\n",
       "      <td>0.0</td>\n",
       "      <td>0.0</td>\n",
       "    </tr>\n",
       "    <tr>\n",
       "      <th>2011-05-10 00:00:00-04:00</th>\n",
       "      <td>102.440002</td>\n",
       "      <td>103.949997</td>\n",
       "      <td>100.120003</td>\n",
       "      <td>103.879997</td>\n",
       "      <td>439607</td>\n",
       "      <td>0.0</td>\n",
       "      <td>0.0</td>\n",
       "    </tr>\n",
       "    <tr>\n",
       "      <th>2011-05-11 00:00:00-04:00</th>\n",
       "      <td>103.690002</td>\n",
       "      <td>104.599998</td>\n",
       "      <td>97.500000</td>\n",
       "      <td>98.209999</td>\n",
       "      <td>524761</td>\n",
       "      <td>0.0</td>\n",
       "      <td>0.0</td>\n",
       "    </tr>\n",
       "  </tbody>\n",
       "</table>\n",
       "</div>"
      ],
      "text/plain": [
       "                                 Open        High         Low       Close  \\\n",
       "Date                                                                        \n",
       "2011-05-05 00:00:00-04:00  108.779999  109.379997   98.250000   99.800003   \n",
       "2011-05-06 00:00:00-04:00   99.760002  102.379997   94.629997   97.180000   \n",
       "2011-05-09 00:00:00-04:00   98.110001  103.400002   97.419998  102.550003   \n",
       "2011-05-10 00:00:00-04:00  102.440002  103.949997  100.120003  103.879997   \n",
       "2011-05-11 00:00:00-04:00  103.690002  104.599998   97.500000   98.209999   \n",
       "\n",
       "                           Volume  Dividends  Stock Splits  \n",
       "Date                                                        \n",
       "2011-05-05 00:00:00-04:00  670082        0.0           0.0  \n",
       "2011-05-06 00:00:00-04:00  606528        0.0           0.0  \n",
       "2011-05-09 00:00:00-04:00  469290        0.0           0.0  \n",
       "2011-05-10 00:00:00-04:00  439607        0.0           0.0  \n",
       "2011-05-11 00:00:00-04:00  524761        0.0           0.0  "
      ]
     },
     "execution_count": 15,
     "metadata": {},
     "output_type": "execute_result"
    }
   ],
   "source": [
    "hist.head(5)"
   ]
  },
  {
   "cell_type": "markdown",
   "metadata": {},
   "source": [
    "<h4>Filtering the data period</h4>"
   ]
  },
  {
   "cell_type": "markdown",
   "metadata": {},
   "source": [
    "We need the data from the day of the first report to six days following the last report (assuming that a week after a new report would have been released)."
   ]
  },
  {
   "cell_type": "code",
   "execution_count": 16,
   "metadata": {},
   "outputs": [],
   "source": [
    "prices = hist.loc[first_inventory_date:last_inventory_date + dt.timedelta(days=6)].copy()"
   ]
  },
  {
   "cell_type": "markdown",
   "metadata": {},
   "source": [
    "<h4>Calculating daily market change percentage</h4>"
   ]
  },
  {
   "cell_type": "markdown",
   "metadata": {},
   "source": [
    "We use percentage change here to account for varying prices over time."
   ]
  },
  {
   "cell_type": "code",
   "execution_count": 17,
   "metadata": {},
   "outputs": [],
   "source": [
    "price_changes = 100 * (prices.Close - prices.Open) / prices.Open"
   ]
  },
  {
   "cell_type": "code",
   "execution_count": 18,
   "metadata": {},
   "outputs": [],
   "source": [
    "# Remove anomalous price movements"
   ]
  },
  {
   "cell_type": "code",
   "execution_count": 19,
   "metadata": {},
   "outputs": [
    {
     "data": {
      "text/plain": [
       "20.460356387596406"
      ]
     },
     "execution_count": 19,
     "metadata": {},
     "output_type": "execute_result"
    }
   ],
   "source": [
    "price_changes.max()"
   ]
  },
  {
   "cell_type": "code",
   "execution_count": 20,
   "metadata": {},
   "outputs": [
    {
     "data": {
      "text/plain": [
       "-312.2391542000506"
      ]
     },
     "execution_count": 20,
     "metadata": {},
     "output_type": "execute_result"
    }
   ],
   "source": [
    "price_changes.min()"
   ]
  },
  {
   "cell_type": "code",
   "execution_count": 21,
   "metadata": {},
   "outputs": [
    {
     "data": {
      "text/plain": [
       "<Axes: >"
      ]
     },
     "execution_count": 21,
     "metadata": {},
     "output_type": "execute_result"
    },
    {
     "data": {
      "image/png": "[encoded data removed]",
      "text/plain": [
       "<Figure size 640x480 with 1 Axes>"
      ]
     },
     "metadata": {},
     "output_type": "display_data"
    }
   ],
   "source": [
    "price_changes.hist()"
   ]
  },
  {
   "cell_type": "markdown",
   "metadata": {},
   "source": [
    "<h4>Removing outlying price movements</h4>"
   ]
  },
  {
   "cell_type": "markdown",
   "metadata": {},
   "source": [
    "Outlying price movements may overwhelm any impact caused by the WPSR. We can identify and remove outliers using the Z-Score.\n",
    "\n",
    "This is a statistical measurement of the price change in relationship to the mean of all price changes."
   ]
  },
  {
   "cell_type": "code",
   "execution_count": 22,
   "metadata": {},
   "outputs": [],
   "source": [
    "from scipy.stats import zscore"
   ]
  },
  {
   "cell_type": "code",
   "execution_count": 23,
   "metadata": {},
   "outputs": [],
   "source": [
    "zscores = zscore(price_changes)"
   ]
  },
  {
   "cell_type": "code",
   "execution_count": 24,
   "metadata": {},
   "outputs": [
    {
     "data": {
      "text/plain": [
       "Date\n",
       "2011-08-10 00:00:00-04:00    0.201673\n",
       "2011-08-11 00:00:00-04:00    0.705134\n",
       "2011-08-12 00:00:00-04:00   -0.007263\n",
       "2011-08-15 00:00:00-04:00    0.419405\n",
       "2011-08-16 00:00:00-04:00   -0.152145\n",
       "                               ...   \n",
       "2024-04-29 00:00:00-04:00   -0.165781\n",
       "2024-04-30 00:00:00-04:00   -0.126639\n",
       "2024-05-01 00:00:00-04:00   -0.429583\n",
       "2024-05-02 00:00:00-04:00   -0.015275\n",
       "2024-05-03 00:00:00-04:00   -0.180521\n",
       "Length: 3203, dtype: float64"
      ]
     },
     "execution_count": 24,
     "metadata": {},
     "output_type": "execute_result"
    }
   ],
   "source": [
    "zscores"
   ]
  },
  {
   "cell_type": "code",
   "execution_count": 25,
   "metadata": {},
   "outputs": [
    {
     "data": {
      "text/plain": [
       "3.0594562562529393"
      ]
     },
     "execution_count": 25,
     "metadata": {},
     "output_type": "execute_result"
    }
   ],
   "source": [
    "zscores.max()"
   ]
  },
  {
   "cell_type": "code",
   "execution_count": 26,
   "metadata": {},
   "outputs": [
    {
     "data": {
      "text/plain": [
       "-46.3278439324072"
      ]
     },
     "execution_count": 26,
     "metadata": {},
     "output_type": "execute_result"
    }
   ],
   "source": [
    "zscores.min()"
   ]
  },
  {
   "cell_type": "markdown",
   "metadata": {},
   "source": [
    "We can discount any days when the absolute Z-score is greater than 3, which translates to 3 Standard Deviations beyond the mean price change."
   ]
  },
  {
   "cell_type": "code",
   "execution_count": 27,
   "metadata": {},
   "outputs": [],
   "source": [
    "price_changes = price_changes[zscores.abs() < 3]"
   ]
  },
  {
   "cell_type": "code",
   "execution_count": 28,
   "metadata": {},
   "outputs": [
    {
     "data": {
      "text/plain": [
       "<Axes: >"
      ]
     },
     "execution_count": 28,
     "metadata": {},
     "output_type": "execute_result"
    },
    {
     "data": {
      "image/png": "[encoded data removed]",
      "text/plain": [
       "<Figure size 640x480 with 1 Axes>"
      ]
     },
     "metadata": {},
     "output_type": "display_data"
    }
   ],
   "source": [
    "price_changes.hist()"
   ]
  },
  {
   "cell_type": "markdown",
   "metadata": {},
   "source": [
    "<h2>Building our Market Impact dataframe</h2>"
   ]
  },
  {
   "cell_type": "markdown",
   "metadata": {},
   "source": [
    "<h4>Grouping daily changes according to the last published report</h4>"
   ]
  },
  {
   "cell_type": "markdown",
   "metadata": {},
   "source": [
    "For each day in <code>price_changes</code>, we can search for the corresponding index location in the <code>report_dates</code> index"
   ]
  },
  {
   "cell_type": "code",
   "execution_count": 29,
   "metadata": {},
   "outputs": [
    {
     "data": {
      "text/plain": [
       "array([  0,   1,   1, ..., 664, 665, 665])"
      ]
     },
     "execution_count": 29,
     "metadata": {},
     "output_type": "execute_result"
    }
   ],
   "source": [
    "report_dates.searchsorted(price_changes.index)"
   ]
  },
  {
   "cell_type": "markdown",
   "metadata": {},
   "source": [
    "We want to include the index of the day that the report was issued, since the release of the report may have driven a change under our hypothesis. Therefore, we use the <code>side</code> keyword argument to return the index to the right of the report date, and subtract <code>1</code> from the results to give the index of the last issued report."
   ]
  },
  {
   "cell_type": "code",
   "execution_count": 30,
   "metadata": {},
   "outputs": [],
   "source": [
    "last_issued_index = report_dates.searchsorted(price_changes.index, side='right') - 1"
   ]
  },
  {
   "cell_type": "code",
   "execution_count": 31,
   "metadata": {},
   "outputs": [
    {
     "data": {
      "text/plain": [
       "array([  0,   0,   0, ..., 664, 664, 664])"
      ]
     },
     "execution_count": 31,
     "metadata": {},
     "output_type": "execute_result"
    }
   ],
   "source": [
    "last_issued_index"
   ]
  },
  {
   "cell_type": "code",
   "execution_count": 32,
   "metadata": {},
   "outputs": [
    {
     "data": {
      "text/plain": [
       "DatetimeIndex(['2011-08-10 00:00:00-04:00', '2011-08-10 00:00:00-04:00',\n",
       "               '2011-08-10 00:00:00-04:00', '2011-08-10 00:00:00-04:00',\n",
       "               '2011-08-10 00:00:00-04:00', '2011-08-17 00:00:00-04:00',\n",
       "               '2011-08-17 00:00:00-04:00', '2011-08-17 00:00:00-04:00',\n",
       "               '2011-08-17 00:00:00-04:00', '2011-08-17 00:00:00-04:00',\n",
       "               ...\n",
       "               '2024-04-17 00:00:00-04:00', '2024-04-17 00:00:00-04:00',\n",
       "               '2024-04-24 00:00:00-04:00', '2024-04-24 00:00:00-04:00',\n",
       "               '2024-04-24 00:00:00-04:00', '2024-04-24 00:00:00-04:00',\n",
       "               '2024-04-24 00:00:00-04:00', '2024-05-01 00:00:00-04:00',\n",
       "               '2024-05-01 00:00:00-04:00', '2024-05-01 00:00:00-04:00'],\n",
       "              dtype='datetime64[ns, America/New_York]', name='Report Date', length=3198, freq=None)"
      ]
     },
     "execution_count": 32,
     "metadata": {},
     "output_type": "execute_result"
    }
   ],
   "source": [
    "report_dates[last_issued_index]"
   ]
  },
  {
   "cell_type": "markdown",
   "metadata": {},
   "source": [
    "Since we have a list of values equal to length of the <code>price_changes</code>, we can pass these into the <code>pd.Series.groupby</code> as the mapper to determine the groups based on the list values, in this case, the last report date. Then, we can use the <code>sum</code> aggregator to return the total price change percentage for the days following a WPSR report."
   ]
  },
  {
   "cell_type": "code",
   "execution_count": 33,
   "metadata": {},
   "outputs": [],
   "source": [
    "report_impact = price_changes.groupby(report_dates[last_issued_index]).sum()"
   ]
  },
  {
   "cell_type": "code",
   "execution_count": 34,
   "metadata": {},
   "outputs": [
    {
     "data": {
      "text/plain": [
       "Report Date\n",
       "2011-08-10 00:00:00-04:00    7.111262\n",
       "2011-08-17 00:00:00-04:00   -0.787683\n",
       "2011-08-24 00:00:00-04:00    3.748321\n",
       "2011-08-31 00:00:00-04:00    0.397778\n",
       "2011-09-08 00:00:00-04:00    0.235214\n",
       "dtype: float64"
      ]
     },
     "execution_count": 34,
     "metadata": {},
     "output_type": "execute_result"
    }
   ],
   "source": [
    "report_impact.head()"
   ]
  },
  {
   "cell_type": "markdown",
   "metadata": {},
   "source": [
    "Let's create a new dataframe containing the reported inventory level and the subsequent spot price change:"
   ]
  },
  {
   "cell_type": "code",
   "execution_count": 35,
   "metadata": {},
   "outputs": [],
   "source": [
    "market_impact = pd.DataFrame()\n",
    "market_impact['inv_change'] = inv['Weekly Commercial Draw/Build'].copy()\n",
    "market_impact['spot_change'] = report_impact.copy()\n",
    "market_impact = market_impact.dropna().round(4)"
   ]
  },
  {
   "cell_type": "code",
   "execution_count": 36,
   "metadata": {},
   "outputs": [
    {
     "data": {
      "text/html": [
       "<div>\n",
       "<style scoped>\n",
       "    .dataframe tbody tr th:only-of-type {\n",
       "        vertical-align: middle;\n",
       "    }\n",
       "\n",
       "    .dataframe tbody tr th {\n",
       "        vertical-align: top;\n",
       "    }\n",
       "\n",
       "    .dataframe thead th {\n",
       "        text-align: right;\n",
       "    }\n",
       "</style>\n",
       "<table border=\"1\" class=\"dataframe\">\n",
       "  <thead>\n",
       "    <tr style=\"text-align: right;\">\n",
       "      <th></th>\n",
       "      <th>inv_change</th>\n",
       "      <th>spot_change</th>\n",
       "    </tr>\n",
       "    <tr>\n",
       "      <th>Report Date</th>\n",
       "      <th></th>\n",
       "      <th></th>\n",
       "    </tr>\n",
       "  </thead>\n",
       "  <tbody>\n",
       "    <tr>\n",
       "      <th>2011-08-10 00:00:00-04:00</th>\n",
       "      <td>-5.225</td>\n",
       "      <td>7.1113</td>\n",
       "    </tr>\n",
       "    <tr>\n",
       "      <th>2011-08-17 00:00:00-04:00</th>\n",
       "      <td>4.233</td>\n",
       "      <td>-0.7877</td>\n",
       "    </tr>\n",
       "    <tr>\n",
       "      <th>2011-08-24 00:00:00-04:00</th>\n",
       "      <td>-2.213</td>\n",
       "      <td>3.7483</td>\n",
       "    </tr>\n",
       "    <tr>\n",
       "      <th>2011-08-31 00:00:00-04:00</th>\n",
       "      <td>5.281</td>\n",
       "      <td>0.3978</td>\n",
       "    </tr>\n",
       "    <tr>\n",
       "      <th>2011-09-08 00:00:00-04:00</th>\n",
       "      <td>-3.963</td>\n",
       "      <td>0.2352</td>\n",
       "    </tr>\n",
       "  </tbody>\n",
       "</table>\n",
       "</div>"
      ],
      "text/plain": [
       "                           inv_change  spot_change\n",
       "Report Date                                       \n",
       "2011-08-10 00:00:00-04:00      -5.225       7.1113\n",
       "2011-08-17 00:00:00-04:00       4.233      -0.7877\n",
       "2011-08-24 00:00:00-04:00      -2.213       3.7483\n",
       "2011-08-31 00:00:00-04:00       5.281       0.3978\n",
       "2011-09-08 00:00:00-04:00      -3.963       0.2352"
      ]
     },
     "execution_count": 36,
     "metadata": {},
     "output_type": "execute_result"
    }
   ],
   "source": [
    "market_impact.head()"
   ]
  },
  {
   "cell_type": "markdown",
   "metadata": {},
   "source": [
    "<h2>Visualising the distribution</h2>"
   ]
  },
  {
   "cell_type": "code",
   "execution_count": 37,
   "metadata": {},
   "outputs": [
    {
     "data": {
      "text/plain": [
       "Text(0, 0.5, 'Week-following Spot Price Change (%)')"
      ]
     },
     "execution_count": 37,
     "metadata": {},
     "output_type": "execute_result"
    },
    {
     "data": {
      "image/png": "[encoded data removed]",
      "text/plain": [
       "<Figure size 1000x600 with 2 Axes>"
      ]
     },
     "metadata": {},
     "output_type": "display_data"
    }
   ],
   "source": [
    "y = market_impact.spot_change\n",
    "x = market_impact.inv_change\n",
    "\n",
    "plt.figure(figsize=(10, 6))\n",
    "plt.scatter(x, y, c=y, marker='v', cmap='coolwarm')\n",
    "plt.colorbar()\n",
    "plt.xlabel('Inventory Change (MB)')\n",
    "plt.ylabel('Week-following Spot Price Change (%)')"
   ]
  },
  {
   "cell_type": "markdown",
   "metadata": {},
   "source": [
    "This distribution predominantly resembles a Bivariate normal distribution.\n",
    "\n",
    "We can test for the correlation between the Inventory Change and the Spot price Change using Pearsons Correlation Coefficient:"
   ]
  },
  {
   "cell_type": "markdown",
   "metadata": {},
   "source": [
    "<h4>Covariance</h4>"
   ]
  },
  {
   "cell_type": "markdown",
   "metadata": {},
   "source": [
    "$Cov(X, Y) = E[(X - E[X])(Y - E[Y])]$"
   ]
  },
  {
   "cell_type": "code",
   "execution_count": 38,
   "metadata": {},
   "outputs": [
    {
     "data": {
      "text/plain": [
       "-0.4595663892811851"
      ]
     },
     "execution_count": 38,
     "metadata": {},
     "output_type": "execute_result"
    }
   ],
   "source": [
    "cov = market_impact['inv_change'].cov(market_impact['spot_change'])\n",
    "cov"
   ]
  },
  {
   "cell_type": "markdown",
   "metadata": {},
   "source": [
    "<h4>Correlation Coefficient</h4>"
   ]
  },
  {
   "cell_type": "markdown",
   "metadata": {},
   "source": [
    "$\\rho_{X,Y} = \\frac{Cov(X, Y)}{\\sigma_X \\sigma_Y}$"
   ]
  },
  {
   "cell_type": "code",
   "execution_count": 39,
   "metadata": {},
   "outputs": [],
   "source": [
    "rho = cov / (market_impact['inv_change'].std() * market_impact['spot_change'].std())"
   ]
  },
  {
   "cell_type": "code",
   "execution_count": 40,
   "metadata": {},
   "outputs": [
    {
     "data": {
      "text/plain": [
       "-0.01646075352435643"
      ]
     },
     "execution_count": 40,
     "metadata": {},
     "output_type": "execute_result"
    }
   ],
   "source": [
    "rho"
   ]
  },
  {
   "cell_type": "markdown",
   "metadata": {},
   "source": [
    "<h2>Statistical Analysis: Correlation or no correlation?</h2>"
   ]
  },
  {
   "cell_type": "markdown",
   "metadata": {},
   "source": [
    "<h3>Pearson Correlation</h3>"
   ]
  },
  {
   "cell_type": "code",
   "execution_count": 41,
   "metadata": {},
   "outputs": [],
   "source": [
    "from scipy.stats import pearsonr, MonteCarloMethod, PermutationMethod\n",
    "rng = np.random.default_rng()"
   ]
  },
  {
   "cell_type": "markdown",
   "metadata": {},
   "source": [
    "This function performs a test of the null hypothesis that the distributions underlying the samples are uncorrelated and normally distributed."
   ]
  },
  {
   "cell_type": "code",
   "execution_count": 42,
   "metadata": {},
   "outputs": [
    {
     "data": {
      "text/html": [
       "<div>\n",
       "<style scoped>\n",
       "    .dataframe tbody tr th:only-of-type {\n",
       "        vertical-align: middle;\n",
       "    }\n",
       "\n",
       "    .dataframe tbody tr th {\n",
       "        vertical-align: top;\n",
       "    }\n",
       "\n",
       "    .dataframe thead th {\n",
       "        text-align: right;\n",
       "    }\n",
       "</style>\n",
       "<table border=\"1\" class=\"dataframe\">\n",
       "  <thead>\n",
       "    <tr style=\"text-align: right;\">\n",
       "      <th></th>\n",
       "      <th>inv_change</th>\n",
       "      <th>spot_change</th>\n",
       "    </tr>\n",
       "  </thead>\n",
       "  <tbody>\n",
       "    <tr>\n",
       "      <th>inv_change</th>\n",
       "      <td>1.000000</td>\n",
       "      <td>-0.016461</td>\n",
       "    </tr>\n",
       "    <tr>\n",
       "      <th>spot_change</th>\n",
       "      <td>-0.016461</td>\n",
       "      <td>1.000000</td>\n",
       "    </tr>\n",
       "  </tbody>\n",
       "</table>\n",
       "</div>"
      ],
      "text/plain": [
       "             inv_change  spot_change\n",
       "inv_change     1.000000    -0.016461\n",
       "spot_change   -0.016461     1.000000"
      ]
     },
     "execution_count": 42,
     "metadata": {},
     "output_type": "execute_result"
    }
   ],
   "source": [
    "market_impact.corr(method='pearson')"
   ]
  },
  {
   "cell_type": "code",
   "execution_count": 43,
   "metadata": {},
   "outputs": [],
   "source": [
    "res = pearsonr(market_impact.inv_change.values, market_impact.spot_change.values)"
   ]
  },
  {
   "cell_type": "code",
   "execution_count": 44,
   "metadata": {},
   "outputs": [
    {
     "data": {
      "text/plain": [
       "ConfidenceInterval(low=-0.09237430682816464, high=0.059643049083104506)"
      ]
     },
     "execution_count": 44,
     "metadata": {},
     "output_type": "execute_result"
    }
   ],
   "source": [
    "res.confidence_interval(0.95)"
   ]
  },
  {
   "cell_type": "code",
   "execution_count": 45,
   "metadata": {},
   "outputs": [],
   "source": [
    "# Permutation Test"
   ]
  },
  {
   "cell_type": "code",
   "execution_count": 46,
   "metadata": {},
   "outputs": [
    {
     "data": {
      "text/plain": [
       "PearsonRResult(statistic=-0.016460753524356483, pvalue=0.6723327667233276)"
      ]
     },
     "execution_count": 46,
     "metadata": {},
     "output_type": "execute_result"
    }
   ],
   "source": [
    "method = PermutationMethod(n_resamples=10000, random_state=rng)\n",
    "\n",
    "pearsonr(market_impact.inv_change.values, market_impact.spot_change.values, method=method)"
   ]
  },
  {
   "cell_type": "code",
   "execution_count": 47,
   "metadata": {},
   "outputs": [],
   "source": [
    "# Monte Carlo resampling"
   ]
  },
  {
   "cell_type": "code",
   "execution_count": 48,
   "metadata": {},
   "outputs": [],
   "source": [
    "# Testing under null hypothesis that samples drawn from uniform distributions"
   ]
  },
  {
   "cell_type": "code",
   "execution_count": 49,
   "metadata": {},
   "outputs": [
    {
     "data": {
      "text/plain": [
       "PearsonRResult(statistic=-0.016460753524356483, pvalue=0.6742)"
      ]
     },
     "execution_count": 49,
     "metadata": {},
     "output_type": "execute_result"
    }
   ],
   "source": [
    "method = MonteCarloMethod(rvs=(rng.uniform, rng.uniform))\n",
    "\n",
    "pearsonr(market_impact.inv_change.values, market_impact.spot_change.values, method=method)"
   ]
  },
  {
   "cell_type": "code",
   "execution_count": 50,
   "metadata": {},
   "outputs": [],
   "source": [
    "# Testing under null hypothesis that samples drawn from normal distribution"
   ]
  },
  {
   "cell_type": "code",
   "execution_count": 51,
   "metadata": {},
   "outputs": [
    {
     "data": {
      "text/plain": [
       "PearsonRResult(statistic=-0.016460753524356483, pvalue=0.6694)"
      ]
     },
     "execution_count": 51,
     "metadata": {},
     "output_type": "execute_result"
    }
   ],
   "source": [
    "method = MonteCarloMethod(rvs=(rng.normal, rng.normal))\n",
    "\n",
    "pearsonr(market_impact.inv_change.values, market_impact.spot_change.values, method=method)"
   ]
  },
  {
   "cell_type": "code",
   "execution_count": null,
   "metadata": {},
   "outputs": [],
   "source": []
  },
  {
   "cell_type": "markdown",
   "metadata": {},
   "source": [
    "<h3>Kendall (Ordinal) Correlation</h3>"
   ]
  },
  {
   "cell_type": "code",
   "execution_count": 52,
   "metadata": {},
   "outputs": [
    {
     "data": {
      "text/html": [
       "<div>\n",
       "<style scoped>\n",
       "    .dataframe tbody tr th:only-of-type {\n",
       "        vertical-align: middle;\n",
       "    }\n",
       "\n",
       "    .dataframe tbody tr th {\n",
       "        vertical-align: top;\n",
       "    }\n",
       "\n",
       "    .dataframe thead th {\n",
       "        text-align: right;\n",
       "    }\n",
       "</style>\n",
       "<table border=\"1\" class=\"dataframe\">\n",
       "  <thead>\n",
       "    <tr style=\"text-align: right;\">\n",
       "      <th></th>\n",
       "      <th>inv_change</th>\n",
       "      <th>spot_change</th>\n",
       "    </tr>\n",
       "  </thead>\n",
       "  <tbody>\n",
       "    <tr>\n",
       "      <th>inv_change</th>\n",
       "      <td>1.000000</td>\n",
       "      <td>-0.045952</td>\n",
       "    </tr>\n",
       "    <tr>\n",
       "      <th>spot_change</th>\n",
       "      <td>-0.045952</td>\n",
       "      <td>1.000000</td>\n",
       "    </tr>\n",
       "  </tbody>\n",
       "</table>\n",
       "</div>"
      ],
      "text/plain": [
       "             inv_change  spot_change\n",
       "inv_change     1.000000    -0.045952\n",
       "spot_change   -0.045952     1.000000"
      ]
     },
     "execution_count": 52,
     "metadata": {},
     "output_type": "execute_result"
    }
   ],
   "source": [
    "market_impact.corr(method='kendall')"
   ]
  },
  {
   "cell_type": "markdown",
   "metadata": {},
   "source": [
    "<h3>Spearman Rank Correlation</h3>"
   ]
  },
  {
   "cell_type": "code",
   "execution_count": 53,
   "metadata": {},
   "outputs": [
    {
     "data": {
      "text/html": [
       "<div>\n",
       "<style scoped>\n",
       "    .dataframe tbody tr th:only-of-type {\n",
       "        vertical-align: middle;\n",
       "    }\n",
       "\n",
       "    .dataframe tbody tr th {\n",
       "        vertical-align: top;\n",
       "    }\n",
       "\n",
       "    .dataframe thead th {\n",
       "        text-align: right;\n",
       "    }\n",
       "</style>\n",
       "<table border=\"1\" class=\"dataframe\">\n",
       "  <thead>\n",
       "    <tr style=\"text-align: right;\">\n",
       "      <th></th>\n",
       "      <th>inv_change</th>\n",
       "      <th>spot_change</th>\n",
       "    </tr>\n",
       "  </thead>\n",
       "  <tbody>\n",
       "    <tr>\n",
       "      <th>inv_change</th>\n",
       "      <td>1.000000</td>\n",
       "      <td>-0.068917</td>\n",
       "    </tr>\n",
       "    <tr>\n",
       "      <th>spot_change</th>\n",
       "      <td>-0.068917</td>\n",
       "      <td>1.000000</td>\n",
       "    </tr>\n",
       "  </tbody>\n",
       "</table>\n",
       "</div>"
      ],
      "text/plain": [
       "             inv_change  spot_change\n",
       "inv_change     1.000000    -0.068917\n",
       "spot_change   -0.068917     1.000000"
      ]
     },
     "execution_count": 53,
     "metadata": {},
     "output_type": "execute_result"
    }
   ],
   "source": [
    "market_impact.corr(method='spearman')"
   ]
  },
  {
   "cell_type": "markdown",
   "metadata": {},
   "source": [
    "<h3>Using dichotomous price change</h3>"
   ]
  },
  {
   "cell_type": "code",
   "execution_count": 54,
   "metadata": {},
   "outputs": [
    {
     "data": {
      "text/plain": [
       "Text(0, 0.5, 'Week-following Spot Price Direction [-1, 1]')"
      ]
     },
     "execution_count": 54,
     "metadata": {},
     "output_type": "execute_result"
    },
    {
     "data": {
      "image/png": "[encoded data removed]",
      "text/plain": [
       "<Figure size 1000x600 with 2 Axes>"
      ]
     },
     "metadata": {},
     "output_type": "display_data"
    }
   ],
   "source": [
    "y = np.where(market_impact.spot_change > 0, 1, -1)\n",
    "x = market_impact.inv_change\n",
    "\n",
    "plt.figure(figsize=(10, 6))\n",
    "plt.scatter(x, y, c=x, marker='v', cmap='coolwarm')\n",
    "plt.colorbar()\n",
    "plt.xlabel('Inventory Change (MB)')\n",
    "plt.ylabel('Week-following Spot Price Direction [-1, 1]')"
   ]
  },
  {
   "cell_type": "code",
   "execution_count": 55,
   "metadata": {},
   "outputs": [],
   "source": [
    "change_dir = np.where(market_impact.spot_change > 0, 1, -1)"
   ]
  },
  {
   "cell_type": "code",
   "execution_count": 56,
   "metadata": {},
   "outputs": [],
   "source": [
    "res = pearsonr(market_impact.inv_change, change_dir)"
   ]
  },
  {
   "cell_type": "markdown",
   "metadata": {},
   "source": [
    "<h3>Considering only the report date</h3>"
   ]
  },
  {
   "cell_type": "code",
   "execution_count": 57,
   "metadata": {},
   "outputs": [],
   "source": [
    "shared_index = report_dates.intersection(price_changes.index)"
   ]
  },
  {
   "cell_type": "code",
   "execution_count": 58,
   "metadata": {},
   "outputs": [],
   "source": [
    "report_impact = price_changes.loc[shared_index]"
   ]
  },
  {
   "cell_type": "code",
   "execution_count": 59,
   "metadata": {},
   "outputs": [],
   "source": [
    "market_impact = pd.DataFrame()\n",
    "market_impact['inv_change'] = inv.loc[shared_index, 'Weekly Commercial Draw/Build'].copy()\n",
    "market_impact['spot_change'] = report_impact.loc[shared_index].copy()"
   ]
  },
  {
   "cell_type": "code",
   "execution_count": 60,
   "metadata": {},
   "outputs": [
    {
     "data": {
      "text/plain": [
       "Text(0, 0.5, 'Week-following Spot Price Change (%)')"
      ]
     },
     "execution_count": 60,
     "metadata": {},
     "output_type": "execute_result"
    },
    {
     "data": {
      "image/png": "[encoded data removed]",
      "text/plain": [
       "<Figure size 1000x600 with 2 Axes>"
      ]
     },
     "metadata": {},
     "output_type": "display_data"
    }
   ],
   "source": [
    "y = market_impact.spot_change\n",
    "x = market_impact.inv_change\n",
    "\n",
    "plt.figure(figsize=(10, 6))\n",
    "plt.scatter(x, y, c=y, marker='v', cmap='coolwarm')\n",
    "plt.colorbar()\n",
    "plt.xlabel('Inventory Change (MB)')\n",
    "plt.ylabel('Week-following Spot Price Change (%)')"
   ]
  },
  {
   "cell_type": "code",
   "execution_count": 61,
   "metadata": {},
   "outputs": [
    {
     "data": {
      "text/html": [
       "<div>\n",
       "<style scoped>\n",
       "    .dataframe tbody tr th:only-of-type {\n",
       "        vertical-align: middle;\n",
       "    }\n",
       "\n",
       "    .dataframe tbody tr th {\n",
       "        vertical-align: top;\n",
       "    }\n",
       "\n",
       "    .dataframe thead th {\n",
       "        text-align: right;\n",
       "    }\n",
       "</style>\n",
       "<table border=\"1\" class=\"dataframe\">\n",
       "  <thead>\n",
       "    <tr style=\"text-align: right;\">\n",
       "      <th></th>\n",
       "      <th>inv_change</th>\n",
       "      <th>spot_change</th>\n",
       "    </tr>\n",
       "  </thead>\n",
       "  <tbody>\n",
       "    <tr>\n",
       "      <th>inv_change</th>\n",
       "      <td>1.000000</td>\n",
       "      <td>0.013108</td>\n",
       "    </tr>\n",
       "    <tr>\n",
       "      <th>spot_change</th>\n",
       "      <td>0.013108</td>\n",
       "      <td>1.000000</td>\n",
       "    </tr>\n",
       "  </tbody>\n",
       "</table>\n",
       "</div>"
      ],
      "text/plain": [
       "             inv_change  spot_change\n",
       "inv_change     1.000000     0.013108\n",
       "spot_change    0.013108     1.000000"
      ]
     },
     "execution_count": 61,
     "metadata": {},
     "output_type": "execute_result"
    }
   ],
   "source": [
    "market_impact.corr()"
   ]
  },
  {
   "cell_type": "markdown",
   "metadata": {},
   "source": [
    "<h2>Testing the Null Hypothesis</h2>"
   ]
  },
  {
   "cell_type": "markdown",
   "metadata": {},
   "source": [
    "Permutation tests provide a direct approach to performing hypothesis tests and constructing confidence intervals. A permutation test for Pearson's correlation coefficient involves the following two steps:\n",
    "\n",
    "    Using the original paired data (xi, yi), randomly redefine the pairs to create a new data set (xi, yi′), where the i′ are a permutation of the set {1,...,n}. The permutation i′ is selected randomly, with equal probabilities placed on all n! possible permutations. This is equivalent to drawing the i′ randomly without replacement from the set {1, ..., n}. In bootstrapping, a closely related approach, the i and the i′ are equal and drawn with replacement from {1, ..., n};\n",
    "    Construct a correlation coefficient r from the randomized data.\n",
    "\n",
    "To perform the permutation test, repeat steps (1) and (2) a large number of times. The p-value for the permutation test is the proportion of the r values generated in step (2) that are larger than the Pearson correlation coefficient that was calculated from the original data. Here \"larger\" can mean either that the value is larger in magnitude, or larger in signed value, depending on whether a two-sided or one-sided test is desired. "
   ]
  },
  {
   "cell_type": "code",
   "execution_count": 62,
   "metadata": {},
   "outputs": [],
   "source": [
    "from scipy.stats import permutation_test"
   ]
  },
  {
   "cell_type": "code",
   "execution_count": null,
   "metadata": {},
   "outputs": [],
   "source": []
  },
  {
   "cell_type": "code",
   "execution_count": 63,
   "metadata": {},
   "outputs": [],
   "source": [
    "from scipy.stats import pearsonr"
   ]
  },
  {
   "cell_type": "code",
   "execution_count": 64,
   "metadata": {},
   "outputs": [],
   "source": [
    "def generate_new_data(xs, ys):\n",
    "    i_perm = np.random.randint(0, len(xs), (len(xs),))\n",
    "    y_i = market_impact.spot_change.iloc[i_perm].values\n",
    "\n",
    "    "
   ]
  },
  {
   "cell_type": "code",
   "execution_count": 65,
   "metadata": {},
   "outputs": [],
   "source": [
    "i_perm = np.random.randint(0, len(market_impact), (len(market_impact),))\n",
    "y_i = market_impact.spot_change.iloc[i_perm].values"
   ]
  },
  {
   "cell_type": "code",
   "execution_count": 66,
   "metadata": {},
   "outputs": [],
   "source": [
    "repetitions = 100\n"
   ]
  },
  {
   "cell_type": "code",
   "execution_count": 67,
   "metadata": {},
   "outputs": [
    {
     "data": {
      "text/plain": [
       "664"
      ]
     },
     "execution_count": 67,
     "metadata": {},
     "output_type": "execute_result"
    }
   ],
   "source": [
    "len(market_impact)"
   ]
  },
  {
   "cell_type": "code",
   "execution_count": 68,
   "metadata": {},
   "outputs": [
    {
     "data": {
      "text/plain": [
       "664"
      ]
     },
     "execution_count": 68,
     "metadata": {},
     "output_type": "execute_result"
    }
   ],
   "source": [
    "len(market_impact.dropna())"
   ]
  },
  {
   "cell_type": "code",
   "execution_count": 69,
   "metadata": {},
   "outputs": [
    {
     "data": {
      "text/plain": [
       "PearsonRResult(statistic=-0.03006701828403941, pvalue=0.4392336591563439)"
      ]
     },
     "execution_count": 69,
     "metadata": {},
     "output_type": "execute_result"
    }
   ],
   "source": [
    "pearsonr(market_impact.inv_change.values, y_i)"
   ]
  },
  {
   "cell_type": "code",
   "execution_count": 70,
   "metadata": {},
   "outputs": [],
   "source": [
    "x = market_impact.inv_change.values"
   ]
  },
  {
   "cell_type": "markdown",
   "metadata": {},
   "source": [
    "<h3>Bayesian Forecasting</h3>"
   ]
  },
  {
   "cell_type": "code",
   "execution_count": 71,
   "metadata": {},
   "outputs": [],
   "source": [
    "price_down = market_impact['spot_change'] < 0\n",
    "price_up = market_impact['spot_change'] > 0\n",
    "inv_down = market_impact['inv_change'] < 0\n",
    "inv_up = market_impact['inv_change'] > 0"
   ]
  },
  {
   "cell_type": "code",
   "execution_count": 72,
   "metadata": {},
   "outputs": [],
   "source": [
    "price_down_inv_down = len(market_impact[price_down&inv_down])\n",
    "price_down_inv_up = len(market_impact[price_down&inv_up])\n",
    "price_up_inv_down = len(market_impact[price_up&inv_down])\n",
    "price_up_inv_up = len(market_impact[price_up&inv_up])"
   ]
  },
  {
   "cell_type": "code",
   "execution_count": 73,
   "metadata": {},
   "outputs": [],
   "source": [
    "prob_pd = len(market_impact[price_down]) / (len(market_impact[price_down]) + len(market_impact[price_up]))\n",
    "prob_pu = len(market_impact[price_up]) / (len(market_impact[price_down]) + len(market_impact[price_up]))\n",
    "\n",
    "prob_id = len(market_impact[inv_down]) / (len(market_impact[inv_down]) + len(market_impact[inv_up]))\n",
    "prob_iu = len(market_impact[inv_up]) / (len(market_impact[inv_down]) + len(market_impact[inv_up]))"
   ]
  },
  {
   "cell_type": "markdown",
   "metadata": {},
   "source": [
    "$$P(price_d | inventory_i) = \\frac{P(price_d) \\times P(inventory_i|price_d)}{P(inventory_i)}$$"
   ]
  },
  {
   "cell_type": "markdown",
   "metadata": {},
   "source": [
    "$P(inventory_i|price_d)$"
   ]
  },
  {
   "cell_type": "code",
   "execution_count": 74,
   "metadata": {},
   "outputs": [
    {
     "data": {
      "text/plain": [
       "0.5474683544303798"
      ]
     },
     "execution_count": 74,
     "metadata": {},
     "output_type": "execute_result"
    }
   ],
   "source": [
    "prob_ii_pd = price_down_inv_up / (price_down_inv_down + price_down_inv_up)\n",
    "prob_ii_pd"
   ]
  },
  {
   "cell_type": "markdown",
   "metadata": {},
   "source": [
    "$P(price_d)$"
   ]
  },
  {
   "cell_type": "code",
   "execution_count": 75,
   "metadata": {},
   "outputs": [
    {
     "data": {
      "text/plain": [
       "0.48024316109422494"
      ]
     },
     "execution_count": 75,
     "metadata": {},
     "output_type": "execute_result"
    }
   ],
   "source": [
    "prob_pd"
   ]
  },
  {
   "cell_type": "markdown",
   "metadata": {},
   "source": [
    "$P(inventory_i)$"
   ]
  },
  {
   "cell_type": "code",
   "execution_count": 76,
   "metadata": {},
   "outputs": [
    {
     "data": {
      "text/plain": [
       "0.5143288084464555"
      ]
     },
     "execution_count": 76,
     "metadata": {},
     "output_type": "execute_result"
    }
   ],
   "source": [
    "prob_iu"
   ]
  },
  {
   "cell_type": "code",
   "execution_count": 77,
   "metadata": {},
   "outputs": [],
   "source": [
    "prob_pd_ii = (prob_pd * prob_ii_pd) / prob_iu"
   ]
  },
  {
   "cell_type": "code",
   "execution_count": 78,
   "metadata": {},
   "outputs": [
    {
     "data": {
      "text/plain": [
       "0.5111864799579282"
      ]
     },
     "execution_count": 78,
     "metadata": {},
     "output_type": "execute_result"
    }
   ],
   "source": [
    "prob_pd_ii"
   ]
  },
  {
   "cell_type": "markdown",
   "metadata": {},
   "source": [
    "<h2>Seasonality</h2>"
   ]
  },
  {
   "cell_type": "code",
   "execution_count": 79,
   "metadata": {},
   "outputs": [
    {
     "data": {
      "text/html": [
       "<div>\n",
       "<style scoped>\n",
       "    .dataframe tbody tr th:only-of-type {\n",
       "        vertical-align: middle;\n",
       "    }\n",
       "\n",
       "    .dataframe tbody tr th {\n",
       "        vertical-align: top;\n",
       "    }\n",
       "\n",
       "    .dataframe thead th {\n",
       "        text-align: right;\n",
       "    }\n",
       "</style>\n",
       "<table border=\"1\" class=\"dataframe\">\n",
       "  <thead>\n",
       "    <tr style=\"text-align: right;\">\n",
       "      <th></th>\n",
       "      <th>inv_change</th>\n",
       "      <th>spot_change</th>\n",
       "    </tr>\n",
       "  </thead>\n",
       "  <tbody>\n",
       "    <tr>\n",
       "      <th>2011-08-10 00:00:00-04:00</th>\n",
       "      <td>-5.225</td>\n",
       "      <td>1.208789</td>\n",
       "    </tr>\n",
       "    <tr>\n",
       "      <th>2011-08-17 00:00:00-04:00</th>\n",
       "      <td>4.233</td>\n",
       "      <td>0.551095</td>\n",
       "    </tr>\n",
       "    <tr>\n",
       "      <th>2011-08-24 00:00:00-04:00</th>\n",
       "      <td>-2.213</td>\n",
       "      <td>-0.595301</td>\n",
       "    </tr>\n",
       "    <tr>\n",
       "      <th>2011-08-31 00:00:00-04:00</th>\n",
       "      <td>5.281</td>\n",
       "      <td>0.022521</td>\n",
       "    </tr>\n",
       "    <tr>\n",
       "      <th>2011-09-08 00:00:00-04:00</th>\n",
       "      <td>-3.963</td>\n",
       "      <td>-1.176337</td>\n",
       "    </tr>\n",
       "    <tr>\n",
       "      <th>...</th>\n",
       "      <td>...</td>\n",
       "      <td>...</td>\n",
       "    </tr>\n",
       "    <tr>\n",
       "      <th>2024-04-03 00:00:00-04:00</th>\n",
       "      <td>3.210</td>\n",
       "      <td>-0.035103</td>\n",
       "    </tr>\n",
       "    <tr>\n",
       "      <th>2024-04-10 00:00:00-04:00</th>\n",
       "      <td>5.841</td>\n",
       "      <td>1.019455</td>\n",
       "    </tr>\n",
       "    <tr>\n",
       "      <th>2024-04-17 00:00:00-04:00</th>\n",
       "      <td>2.735</td>\n",
       "      <td>-3.127927</td>\n",
       "    </tr>\n",
       "    <tr>\n",
       "      <th>2024-04-24 00:00:00-04:00</th>\n",
       "      <td>-6.368</td>\n",
       "      <td>-0.707439</td>\n",
       "    </tr>\n",
       "    <tr>\n",
       "      <th>2024-05-01 00:00:00-04:00</th>\n",
       "      <td>7.265</td>\n",
       "      <td>-3.043696</td>\n",
       "    </tr>\n",
       "  </tbody>\n",
       "</table>\n",
       "<p>664 rows × 2 columns</p>\n",
       "</div>"
      ],
      "text/plain": [
       "                           inv_change  spot_change\n",
       "2011-08-10 00:00:00-04:00      -5.225     1.208789\n",
       "2011-08-17 00:00:00-04:00       4.233     0.551095\n",
       "2011-08-24 00:00:00-04:00      -2.213    -0.595301\n",
       "2011-08-31 00:00:00-04:00       5.281     0.022521\n",
       "2011-09-08 00:00:00-04:00      -3.963    -1.176337\n",
       "...                               ...          ...\n",
       "2024-04-03 00:00:00-04:00       3.210    -0.035103\n",
       "2024-04-10 00:00:00-04:00       5.841     1.019455\n",
       "2024-04-17 00:00:00-04:00       2.735    -3.127927\n",
       "2024-04-24 00:00:00-04:00      -6.368    -0.707439\n",
       "2024-05-01 00:00:00-04:00       7.265    -3.043696\n",
       "\n",
       "[664 rows x 2 columns]"
      ]
     },
     "execution_count": 79,
     "metadata": {},
     "output_type": "execute_result"
    }
   ],
   "source": [
    "market_impact"
   ]
  },
  {
   "cell_type": "code",
   "execution_count": 80,
   "metadata": {},
   "outputs": [],
   "source": [
    "seasonal_months = dict(winter=[12, 1, 2], spring=[3, 4, 5], summer=[6, 7, 8], autumn=[9, 10, 11])\n",
    "month_to_season = {month: season for season, months in seasonal_months.items() for month in months}"
   ]
  },
  {
   "cell_type": "code",
   "execution_count": 81,
   "metadata": {},
   "outputs": [],
   "source": [
    "market_impact['season'] = market_impact.index.month.map(month_to_season)"
   ]
  },
  {
   "cell_type": "code",
   "execution_count": 82,
   "metadata": {},
   "outputs": [
    {
     "data": {
      "text/html": [
       "<div>\n",
       "<style scoped>\n",
       "    .dataframe tbody tr th:only-of-type {\n",
       "        vertical-align: middle;\n",
       "    }\n",
       "\n",
       "    .dataframe tbody tr th {\n",
       "        vertical-align: top;\n",
       "    }\n",
       "\n",
       "    .dataframe thead th {\n",
       "        text-align: right;\n",
       "    }\n",
       "</style>\n",
       "<table border=\"1\" class=\"dataframe\">\n",
       "  <thead>\n",
       "    <tr style=\"text-align: right;\">\n",
       "      <th></th>\n",
       "      <th>inv_change</th>\n",
       "      <th>spot_change</th>\n",
       "      <th>season</th>\n",
       "    </tr>\n",
       "  </thead>\n",
       "  <tbody>\n",
       "    <tr>\n",
       "      <th>2011-08-10 00:00:00-04:00</th>\n",
       "      <td>-5.225</td>\n",
       "      <td>1.208789</td>\n",
       "      <td>summer</td>\n",
       "    </tr>\n",
       "    <tr>\n",
       "      <th>2011-08-17 00:00:00-04:00</th>\n",
       "      <td>4.233</td>\n",
       "      <td>0.551095</td>\n",
       "      <td>summer</td>\n",
       "    </tr>\n",
       "    <tr>\n",
       "      <th>2011-08-24 00:00:00-04:00</th>\n",
       "      <td>-2.213</td>\n",
       "      <td>-0.595301</td>\n",
       "      <td>summer</td>\n",
       "    </tr>\n",
       "  </tbody>\n",
       "</table>\n",
       "</div>"
      ],
      "text/plain": [
       "                           inv_change  spot_change  season\n",
       "2011-08-10 00:00:00-04:00      -5.225     1.208789  summer\n",
       "2011-08-17 00:00:00-04:00       4.233     0.551095  summer\n",
       "2011-08-24 00:00:00-04:00      -2.213    -0.595301  summer"
      ]
     },
     "execution_count": 82,
     "metadata": {},
     "output_type": "execute_result"
    }
   ],
   "source": [
    "market_impact.head(3)"
   ]
  },
  {
   "cell_type": "code",
   "execution_count": 83,
   "metadata": {},
   "outputs": [
    {
     "data": {
      "text/plain": [
       "Text(0, 0.5, 'Week-following Spot Price Change (%)')"
      ]
     },
     "execution_count": 83,
     "metadata": {},
     "output_type": "execute_result"
    },
    {
     "data": {
      "image/png": "[encoded data removed]",
      "text/plain": [
       "<Figure size 1200x800 with 4 Axes>"
      ]
     },
     "metadata": {},
     "output_type": "display_data"
    }
   ],
   "source": [
    "fig, axs = plt.subplots(ncols=2, nrows=2, figsize=(12, 8))\n",
    "seasons = list(market_impact['season'].unique())\n",
    "colors = np.linspace(0, 1, len(seasons))\n",
    "colordict = dict(zip(seasons, colors))  \n",
    "\n",
    "# Winter\n",
    "winter = market_impact[market_impact['season']=='winter']\n",
    "x = winter.inv_change\n",
    "y = winter.spot_change\n",
    "\n",
    "axs[0][0].scatter(x, y, color='b', marker='v')#, cmap='coolwarm')\n",
    "# plt.colorbar()\n",
    "axs[0][0].set_xlabel('Inventory Change (MB)')\n",
    "axs[0][0].set_ylabel('Week-following Spot Price Change (%)')\n",
    "\n",
    "\n",
    "# Spring\n",
    "spring = market_impact[market_impact['season']=='spring']\n",
    "x = spring.inv_change\n",
    "y = spring.spot_change\n",
    "\n",
    "axs[0][1].scatter(x, y, color='g', marker='v')#, cmap='coolwarm')\n",
    "# plt.colorbar()\n",
    "axs[0][1].set_xlabel('Inventory Change (MB)')\n",
    "axs[0][1].set_ylabel('Week-following Spot Price Change (%)')\n",
    "\n",
    "# Summer\n",
    "summer = market_impact[market_impact['season']=='summer']\n",
    "x = summer.inv_change\n",
    "y = summer.spot_change\n",
    "\n",
    "axs[1][0].scatter(x, y, color='y', marker='v')#, cmap='coolwarm')\n",
    "# plt.colorbar()\n",
    "axs[1][0].set_xlabel('Inventory Change (MB)')\n",
    "axs[1][0].set_ylabel('Week-following Spot Price Change (%)')\n",
    "\n",
    "# Autumn\n",
    "autumn = market_impact[market_impact['season']=='autumn']\n",
    "x = autumn.inv_change\n",
    "y = autumn.spot_change\n",
    "\n",
    "axs[1][1].scatter(x, y, color='orange', marker='v')#, cmap='coolwarm')\n",
    "# plt.colorbar()\n",
    "axs[1][1].set_xlabel('Inventory Change (MB)')\n",
    "axs[1][1].set_ylabel('Week-following Spot Price Change (%)')\n"
   ]
  },
  {
   "cell_type": "code",
   "execution_count": null,
   "metadata": {},
   "outputs": [],
   "source": []
  }
 ],
 "metadata": {
  "kernelspec": {
   "display_name": "py3.12.2",
   "language": "python",
   "name": "py3.12.2"
  },
  "language_info": {
   "codemirror_mode": {
    "name": "ipython",
    "version": 3
   },
   "file_extension": ".py",
   "mimetype": "text/x-python",
   "name": "python",
   "nbconvert_exporter": "python",
   "pygments_lexer": "ipython3",
   "version": "3.12.2"
  }
 },
 "nbformat": 4,
 "nbformat_minor": 4
}

{
 "cells": [
  {
   "cell_type": "markdown",
   "metadata": {},
   "source": [
    "<h1><center>Does the EIA Weekly Petroleum Stock Report <br><i>really</i> impact Crude Oil price?</center></h1>"
   ]
  },
  {
   "cell_type": "code",
   "execution_count": 1,
   "metadata": {},
   "outputs": [],
   "source": [
    "import pandas as pd\n",
    "import numpy as np\n",
    "import datetime as dt\n",
    "\n",
    "import pytz\n",
    "import matplotlib.pyplot as plt\n",
    "import matplotlib.dates as mdates\n",
    "\n",
    "wall_st = pytz.timezone(\"America/New_York\")"
   ]
  },
  {
   "cell_type": "markdown",
   "metadata": {},
   "source": [
    "<h2>WPSR Inventory Data</h2>"
   ]
  },
  {
   "cell_type": "code",
   "execution_count": 2,
   "metadata": {},
   "outputs": [],
   "source": [
    "inv = pd.read_csv(\"./eia_wpsr.csv\", usecols=['Report Date', 'Crude Oil', 'SPR'])"
   ]
  },
  {
   "cell_type": "code",
   "execution_count": 3,
   "metadata": {},
   "outputs": [
    {
     "data": {
      "text/html": [
       "<div>\n",
       "<style scoped>\n",
       "    .dataframe tbody tr th:only-of-type {\n",
       "        vertical-align: middle;\n",
       "    }\n",
       "\n",
       "    .dataframe tbody tr th {\n",
       "        vertical-align: top;\n",
       "    }\n",
       "\n",
       "    .dataframe thead th {\n",
       "        text-align: right;\n",
       "    }\n",
       "</style>\n",
       "<table border=\"1\" class=\"dataframe\">\n",
       "  <thead>\n",
       "    <tr style=\"text-align: right;\">\n",
       "      <th></th>\n",
       "      <th>Report Date</th>\n",
       "      <th>Crude Oil</th>\n",
       "      <th>SPR</th>\n",
       "    </tr>\n",
       "  </thead>\n",
       "  <tbody>\n",
       "    <tr>\n",
       "      <th>0</th>\n",
       "      <td>2011-08-03</td>\n",
       "      <td>1074.736</td>\n",
       "      <td>719.761</td>\n",
       "    </tr>\n",
       "    <tr>\n",
       "      <th>1</th>\n",
       "      <td>2011-08-10</td>\n",
       "      <td>1067.017</td>\n",
       "      <td>717.267</td>\n",
       "    </tr>\n",
       "    <tr>\n",
       "      <th>2</th>\n",
       "      <td>2011-08-17</td>\n",
       "      <td>1065.336</td>\n",
       "      <td>711.353</td>\n",
       "    </tr>\n",
       "  </tbody>\n",
       "</table>\n",
       "</div>"
      ],
      "text/plain": [
       "  Report Date  Crude Oil      SPR\n",
       "0  2011-08-03   1074.736  719.761\n",
       "1  2011-08-10   1067.017  717.267\n",
       "2  2011-08-17   1065.336  711.353"
      ]
     },
     "execution_count": 3,
     "metadata": {},
     "output_type": "execute_result"
    }
   ],
   "source": [
    "inv.head(3)"
   ]
  },
  {
   "cell_type": "code",
   "execution_count": 4,
   "metadata": {},
   "outputs": [],
   "source": [
    "inv = inv.set_index('Report Date')\n",
    "inv.index = pd.to_datetime(inv.index, format='%Y-%m-%d').tz_localize(wall_st)\n",
    "inv = inv.sort_index()"
   ]
  },
  {
   "cell_type": "code",
   "execution_count": 5,
   "metadata": {},
   "outputs": [
    {
     "data": {
      "text/html": [
       "<div>\n",
       "<style scoped>\n",
       "    .dataframe tbody tr th:only-of-type {\n",
       "        vertical-align: middle;\n",
       "    }\n",
       "\n",
       "    .dataframe tbody tr th {\n",
       "        vertical-align: top;\n",
       "    }\n",
       "\n",
       "    .dataframe thead th {\n",
       "        text-align: right;\n",
       "    }\n",
       "</style>\n",
       "<table border=\"1\" class=\"dataframe\">\n",
       "  <thead>\n",
       "    <tr style=\"text-align: right;\">\n",
       "      <th></th>\n",
       "      <th>Crude Oil</th>\n",
       "      <th>SPR</th>\n",
       "    </tr>\n",
       "    <tr>\n",
       "      <th>Report Date</th>\n",
       "      <th></th>\n",
       "      <th></th>\n",
       "    </tr>\n",
       "  </thead>\n",
       "  <tbody>\n",
       "    <tr>\n",
       "      <th>2011-08-03 00:00:00-04:00</th>\n",
       "      <td>1074.736</td>\n",
       "      <td>719.761</td>\n",
       "    </tr>\n",
       "    <tr>\n",
       "      <th>2011-08-10 00:00:00-04:00</th>\n",
       "      <td>1067.017</td>\n",
       "      <td>717.267</td>\n",
       "    </tr>\n",
       "  </tbody>\n",
       "</table>\n",
       "</div>"
      ],
      "text/plain": [
       "                           Crude Oil      SPR\n",
       "Report Date                                  \n",
       "2011-08-03 00:00:00-04:00   1074.736  719.761\n",
       "2011-08-10 00:00:00-04:00   1067.017  717.267"
      ]
     },
     "execution_count": 5,
     "metadata": {},
     "output_type": "execute_result"
    }
   ],
   "source": [
    "inv.head(2)"
   ]
  },
  {
   "cell_type": "markdown",
   "metadata": {},
   "source": [
    "<h4>Calculate weekly draw/build of Commercial inventories</h4>"
   ]
  },
  {
   "cell_type": "code",
   "execution_count": 6,
   "metadata": {},
   "outputs": [],
   "source": [
    "inv['Commercial Crude (Excluding SPR)'] = inv['Crude Oil'] - inv['SPR']"
   ]
  },
  {
   "cell_type": "code",
   "execution_count": 7,
   "metadata": {},
   "outputs": [],
   "source": [
    "inv['Weekly Commercial Draw/Build'] = inv['Commercial Crude (Excluding SPR)'].diff()"
   ]
  },
  {
   "cell_type": "code",
   "execution_count": 8,
   "metadata": {},
   "outputs": [
    {
     "data": {
      "text/html": [
       "<div>\n",
       "<style scoped>\n",
       "    .dataframe tbody tr th:only-of-type {\n",
       "        vertical-align: middle;\n",
       "    }\n",
       "\n",
       "    .dataframe tbody tr th {\n",
       "        vertical-align: top;\n",
       "    }\n",
       "\n",
       "    .dataframe thead th {\n",
       "        text-align: right;\n",
       "    }\n",
       "</style>\n",
       "<table border=\"1\" class=\"dataframe\">\n",
       "  <thead>\n",
       "    <tr style=\"text-align: right;\">\n",
       "      <th></th>\n",
       "      <th>Crude Oil</th>\n",
       "      <th>SPR</th>\n",
       "      <th>Commercial Crude (Excluding SPR)</th>\n",
       "      <th>Weekly Commercial Draw/Build</th>\n",
       "    </tr>\n",
       "    <tr>\n",
       "      <th>Report Date</th>\n",
       "      <th></th>\n",
       "      <th></th>\n",
       "      <th></th>\n",
       "      <th></th>\n",
       "    </tr>\n",
       "  </thead>\n",
       "  <tbody>\n",
       "    <tr>\n",
       "      <th>2011-08-03 00:00:00-04:00</th>\n",
       "      <td>1074.736</td>\n",
       "      <td>719.761</td>\n",
       "      <td>354.975</td>\n",
       "      <td>NaN</td>\n",
       "    </tr>\n",
       "    <tr>\n",
       "      <th>2011-08-10 00:00:00-04:00</th>\n",
       "      <td>1067.017</td>\n",
       "      <td>717.267</td>\n",
       "      <td>349.750</td>\n",
       "      <td>-5.225</td>\n",
       "    </tr>\n",
       "    <tr>\n",
       "      <th>2011-08-17 00:00:00-04:00</th>\n",
       "      <td>1065.336</td>\n",
       "      <td>711.353</td>\n",
       "      <td>353.983</td>\n",
       "      <td>4.233</td>\n",
       "    </tr>\n",
       "    <tr>\n",
       "      <th>2011-08-24 00:00:00-04:00</th>\n",
       "      <td>1058.321</td>\n",
       "      <td>706.551</td>\n",
       "      <td>351.770</td>\n",
       "      <td>-2.213</td>\n",
       "    </tr>\n",
       "    <tr>\n",
       "      <th>2011-08-31 00:00:00-04:00</th>\n",
       "      <td>1058.876</td>\n",
       "      <td>701.825</td>\n",
       "      <td>357.051</td>\n",
       "      <td>5.281</td>\n",
       "    </tr>\n",
       "  </tbody>\n",
       "</table>\n",
       "</div>"
      ],
      "text/plain": [
       "                           Crude Oil      SPR  \\\n",
       "Report Date                                     \n",
       "2011-08-03 00:00:00-04:00   1074.736  719.761   \n",
       "2011-08-10 00:00:00-04:00   1067.017  717.267   \n",
       "2011-08-17 00:00:00-04:00   1065.336  711.353   \n",
       "2011-08-24 00:00:00-04:00   1058.321  706.551   \n",
       "2011-08-31 00:00:00-04:00   1058.876  701.825   \n",
       "\n",
       "                           Commercial Crude (Excluding SPR)  \\\n",
       "Report Date                                                   \n",
       "2011-08-03 00:00:00-04:00                           354.975   \n",
       "2011-08-10 00:00:00-04:00                           349.750   \n",
       "2011-08-17 00:00:00-04:00                           353.983   \n",
       "2011-08-24 00:00:00-04:00                           351.770   \n",
       "2011-08-31 00:00:00-04:00                           357.051   \n",
       "\n",
       "                           Weekly Commercial Draw/Build  \n",
       "Report Date                                              \n",
       "2011-08-03 00:00:00-04:00                           NaN  \n",
       "2011-08-10 00:00:00-04:00                        -5.225  \n",
       "2011-08-17 00:00:00-04:00                         4.233  \n",
       "2011-08-24 00:00:00-04:00                        -2.213  \n",
       "2011-08-31 00:00:00-04:00                         5.281  "
      ]
     },
     "execution_count": 8,
     "metadata": {},
     "output_type": "execute_result"
    }
   ],
   "source": [
    "inv.head()"
   ]
  },
  {
   "cell_type": "code",
   "execution_count": 9,
   "metadata": {},
   "outputs": [],
   "source": [
    "# drop first report where change is unknown\n",
    "inv = inv.dropna()"
   ]
  },
  {
   "cell_type": "code",
   "execution_count": 10,
   "metadata": {},
   "outputs": [],
   "source": [
    "# we can use the report dates DatetimeIndex for a trick shortly\n",
    "report_dates = inv.index"
   ]
  },
  {
   "cell_type": "markdown",
   "metadata": {},
   "source": [
    "<h2>WTI Spot Price Data</h2>"
   ]
  },
  {
   "cell_type": "markdown",
   "metadata": {},
   "source": [
    "We want to know what the overall market impact (i.e. total change percentage) of a report is in the days following its release, until the next report."
   ]
  },
  {
   "cell_type": "code",
   "execution_count": 11,
   "metadata": {},
   "outputs": [
    {
     "name": "stdout",
     "output_type": "stream",
     "text": [
      "First Inventory: 2011-08-10 00:00:00-04:00 \t Last Inventory: 2024-05-01 00:00:00-04:00\n"
     ]
    }
   ],
   "source": [
    "first_inventory_date = inv.index.min()\n",
    "last_inventory_date = inv.index.max()\n",
    "print(f\"First Inventory: {first_inventory_date} \\t Last Inventory: {last_inventory_date}\")"
   ]
  },
  {
   "cell_type": "code",
   "execution_count": 12,
   "metadata": {},
   "outputs": [],
   "source": [
    "today = dt.datetime.now(tz=wall_st)\n",
    "days_per_year = 365.2425\n",
    "years_ago = int(( today - first_inventory_date).days // days_per_year) + 1"
   ]
  },
  {
   "cell_type": "code",
   "execution_count": 13,
   "metadata": {},
   "outputs": [],
   "source": [
    "import yfinance as yf"
   ]
  },
  {
   "cell_type": "code",
   "execution_count": 14,
   "metadata": {},
   "outputs": [],
   "source": [
    "# get relevant historical market data from Yahoo Finance\n",
    "wti = yf.Ticker(\"CL=F\")\n",
    "hist = wti.history(period=f\"{years_ago}y\")"
   ]
  },
  {
   "cell_type": "code",
   "execution_count": 15,
   "metadata": {},
   "outputs": [
    {
     "data": {
      "text/html": [
       "<div>\n",
       "<style scoped>\n",
       "    .dataframe tbody tr th:only-of-type {\n",
       "        vertical-align: middle;\n",
       "    }\n",
       "\n",
       "    .dataframe tbody tr th {\n",
       "        vertical-align: top;\n",
       "    }\n",
       "\n",
       "    .dataframe thead th {\n",
       "        text-align: right;\n",
       "    }\n",
       "</style>\n",
       "<table border=\"1\" class=\"dataframe\">\n",
       "  <thead>\n",
       "    <tr style=\"text-align: right;\">\n",
       "      <th></th>\n",
       "      <th>Open</th>\n",
       "      <th>High</th>\n",
       "      <th>Low</th>\n",
       "      <th>Close</th>\n",
       "      <th>Volume</th>\n",
       "      <th>Dividends</th>\n",
       "      <th>Stock Splits</th>\n",
       "    </tr>\n",
       "    <tr>\n",
       "      <th>Date</th>\n",
       "      <th></th>\n",
       "      <th></th>\n",
       "      <th></th>\n",
       "      <th></th>\n",
       "      <th></th>\n",
       "      <th></th>\n",
       "      <th></th>\n",
       "    </tr>\n",
       "  </thead>\n",
       "  <tbody>\n",
       "    <tr>\n",
       "      <th>2011-05-04 00:00:00-04:00</th>\n",
       "      <td>110.680000</td>\n",
       "      <td>111.220001</td>\n",
       "      <td>108.480003</td>\n",
       "      <td>109.239998</td>\n",
       "      <td>333018</td>\n",
       "      <td>0.0</td>\n",
       "      <td>0.0</td>\n",
       "    </tr>\n",
       "    <tr>\n",
       "      <th>2011-05-05 00:00:00-04:00</th>\n",
       "      <td>108.779999</td>\n",
       "      <td>109.379997</td>\n",
       "      <td>98.250000</td>\n",
       "      <td>99.800003</td>\n",
       "      <td>670082</td>\n",
       "      <td>0.0</td>\n",
       "      <td>0.0</td>\n",
       "    </tr>\n",
       "    <tr>\n",
       "      <th>2011-05-06 00:00:00-04:00</th>\n",
       "      <td>99.760002</td>\n",
       "      <td>102.379997</td>\n",
       "      <td>94.629997</td>\n",
       "      <td>97.180000</td>\n",
       "      <td>606528</td>\n",
       "      <td>0.0</td>\n",
       "      <td>0.0</td>\n",
       "    </tr>\n",
       "    <tr>\n",
       "      <th>2011-05-09 00:00:00-04:00</th>\n",
       "      <td>98.110001</td>\n",
       "      <td>103.400002</td>\n",
       "      <td>97.419998</td>\n",
       "      <td>102.550003</td>\n",
       "      <td>469290</td>\n",
       "      <td>0.0</td>\n",
       "      <td>0.0</td>\n",
       "    </tr>\n",
       "    <tr>\n",
       "      <th>2011-05-10 00:00:00-04:00</th>\n",
       "      <td>102.440002</td>\n",
       "      <td>103.949997</td>\n",
       "      <td>100.120003</td>\n",
       "      <td>103.879997</td>\n",
       "      <td>439607</td>\n",
       "      <td>0.0</td>\n",
       "      <td>0.0</td>\n",
       "    </tr>\n",
       "  </tbody>\n",
       "</table>\n",
       "</div>"
      ],
      "text/plain": [
       "                                 Open        High         Low       Close  \\\n",
       "Date                                                                        \n",
       "2011-05-04 00:00:00-04:00  110.680000  111.220001  108.480003  109.239998   \n",
       "2011-05-05 00:00:00-04:00  108.779999  109.379997   98.250000   99.800003   \n",
       "2011-05-06 00:00:00-04:00   99.760002  102.379997   94.629997   97.180000   \n",
       "2011-05-09 00:00:00-04:00   98.110001  103.400002   97.419998  102.550003   \n",
       "2011-05-10 00:00:00-04:00  102.440002  103.949997  100.120003  103.879997   \n",
       "\n",
       "                           Volume  Dividends  Stock Splits  \n",
       "Date                                                        \n",
       "2011-05-04 00:00:00-04:00  333018        0.0           0.0  \n",
       "2011-05-05 00:00:00-04:00  670082        0.0           0.0  \n",
       "2011-05-06 00:00:00-04:00  606528        0.0           0.0  \n",
       "2011-05-09 00:00:00-04:00  469290        0.0           0.0  \n",
       "2011-05-10 00:00:00-04:00  439607        0.0           0.0  "
      ]
     },
     "execution_count": 15,
     "metadata": {},
     "output_type": "execute_result"
    }
   ],
   "source": [
    "hist.head(5)"
   ]
  },
  {
   "cell_type": "markdown",
   "metadata": {},
   "source": [
    "<h4>Filtering the data period</h4>"
   ]
  },
  {
   "cell_type": "markdown",
   "metadata": {},
   "source": [
    "We need the data from the day of the first report to six days following the last report (assuming that a week after a new report would have been released)."
   ]
  },
  {
   "cell_type": "code",
   "execution_count": 16,
   "metadata": {},
   "outputs": [],
   "source": [
    "prices = hist.loc[first_inventory_date:last_inventory_date + dt.timedelta(days=6)].copy()"
   ]
  },
  {
   "cell_type": "markdown",
   "metadata": {},
   "source": [
    "<h4>Calculating daily market change percentage</h4>"
   ]
  },
  {
   "cell_type": "markdown",
   "metadata": {},
   "source": [
    "We use percentage change here to account for varying prices over time."
   ]
  },
  {
   "cell_type": "code",
   "execution_count": 17,
   "metadata": {},
   "outputs": [],
   "source": [
    "price_changes = 100 * (prices.Close - prices.Open) / prices.Open"
   ]
  },
  {
   "cell_type": "code",
   "execution_count": 18,
   "metadata": {},
   "outputs": [],
   "source": [
    "# Remove anomalous price movements"
   ]
  },
  {
   "cell_type": "code",
   "execution_count": 19,
   "metadata": {},
   "outputs": [
    {
     "data": {
      "text/plain": [
       "20.460356387596406"
      ]
     },
     "execution_count": 19,
     "metadata": {},
     "output_type": "execute_result"
    }
   ],
   "source": [
    "price_changes.max()"
   ]
  },
  {
   "cell_type": "code",
   "execution_count": 20,
   "metadata": {},
   "outputs": [
    {
     "data": {
      "text/plain": [
       "-312.2391542000506"
      ]
     },
     "execution_count": 20,
     "metadata": {},
     "output_type": "execute_result"
    }
   ],
   "source": [
    "price_changes.min()"
   ]
  },
  {
   "cell_type": "code",
   "execution_count": 21,
   "metadata": {},
   "outputs": [
    {
     "data": {
      "text/plain": [
       "<Axes: >"
      ]
     },
     "execution_count": 21,
     "metadata": {},
     "output_type": "execute_result"
    },
    {
     "data": {
      "image/png": "[encoded data removed]",
      "text/plain": [
       "<Figure size 640x480 with 1 Axes>"
      ]
     },
     "metadata": {},
     "output_type": "display_data"
    }
   ],
   "source": [
    "price_changes.hist()"
   ]
  },
  {
   "cell_type": "markdown",
   "metadata": {},
   "source": [
    "<h4>Removing outlying price movements</h4>"
   ]
  },
  {
   "cell_type": "markdown",
   "metadata": {},
   "source": [
    "Outlying price movements may overwhelm any impact caused by the WPSR. We can identify and remove outliers using the Z-Score.\n",
    "\n",
    "This is a statistical measurement of the price change in relationship to the mean of all price changes."
   ]
  },
  {
   "cell_type": "code",
   "execution_count": 22,
   "metadata": {},
   "outputs": [],
   "source": [
    "from scipy.stats import zscore"
   ]
  },
  {
   "cell_type": "code",
   "execution_count": 23,
   "metadata": {},
   "outputs": [],
   "source": [
    "zscores = zscore(price_changes)"
   ]
  },
  {
   "cell_type": "code",
   "execution_count": 24,
   "metadata": {},
   "outputs": [
    {
     "data": {
      "text/plain": [
       "Date\n",
       "2011-08-10 00:00:00-04:00    0.201667\n",
       "2011-08-11 00:00:00-04:00    0.705128\n",
       "2011-08-12 00:00:00-04:00   -0.007270\n",
       "2011-08-15 00:00:00-04:00    0.419399\n",
       "2011-08-16 00:00:00-04:00   -0.152152\n",
       "                               ...   \n",
       "2024-04-29 00:00:00-04:00   -0.165789\n",
       "2024-04-30 00:00:00-04:00   -0.126646\n",
       "2024-05-01 00:00:00-04:00   -0.429591\n",
       "2024-05-02 00:00:00-04:00   -0.015282\n",
       "2024-05-03 00:00:00-04:00   -0.157999\n",
       "Length: 3203, dtype: float64"
      ]
     },
     "execution_count": 24,
     "metadata": {},
     "output_type": "execute_result"
    }
   ],
   "source": [
    "zscores"
   ]
  },
  {
   "cell_type": "code",
   "execution_count": 25,
   "metadata": {},
   "outputs": [
    {
     "data": {
      "text/plain": [
       "3.0594528648981036"
      ]
     },
     "execution_count": 25,
     "metadata": {},
     "output_type": "execute_result"
    }
   ],
   "source": [
    "zscores.max()"
   ]
  },
  {
   "cell_type": "code",
   "execution_count": 26,
   "metadata": {},
   "outputs": [
    {
     "data": {
      "text/plain": [
       "-46.32790612095562"
      ]
     },
     "execution_count": 26,
     "metadata": {},
     "output_type": "execute_result"
    }
   ],
   "source": [
    "zscores.min()"
   ]
  },
  {
   "cell_type": "markdown",
   "metadata": {},
   "source": [
    "We can discount any days when the absolute Z-score is greater than 3, which translates to 3 Standard Deviations beyond the mean price change."
   ]
  },
  {
   "cell_type": "code",
   "execution_count": 27,
   "metadata": {},
   "outputs": [],
   "source": [
    "price_changes = price_changes[zscores.abs() < 3]"
   ]
  },
  {
   "cell_type": "code",
   "execution_count": 28,
   "metadata": {},
   "outputs": [
    {
     "data": {
      "text/plain": [
       "<Axes: >"
      ]
     },
     "execution_count": 28,
     "metadata": {},
     "output_type": "execute_result"
    },
    {
     "data": {
      "image/png": "[encoded data removed]",
      "text/plain": [
       "<Figure size 640x480 with 1 Axes>"
      ]
     },
     "metadata": {},
     "output_type": "display_data"
    }
   ],
   "source": [
    "price_changes.hist()"
   ]
  },
  {
   "cell_type": "markdown",
   "metadata": {},
   "source": [
    "<h2>Building our Market Impact dataframe</h2>"
   ]
  },
  {
   "cell_type": "markdown",
   "metadata": {},
   "source": [
    "<h4>Grouping daily changes according to the last published report</h4>"
   ]
  },
  {
   "cell_type": "markdown",
   "metadata": {},
   "source": [
    "For each day in <code>price_changes</code>, we can search for the corresponding index location in the <code>report_dates</code> index"
   ]
  },
  {
   "cell_type": "code",
   "execution_count": 29,
   "metadata": {},
   "outputs": [
    {
     "data": {
      "text/plain": [
       "array([  0,   1,   1, ..., 664, 665, 665])"
      ]
     },
     "execution_count": 29,
     "metadata": {},
     "output_type": "execute_result"
    }
   ],
   "source": [
    "report_dates.searchsorted(price_changes.index)"
   ]
  },
  {
   "cell_type": "markdown",
   "metadata": {},
   "source": [
    "We want to include the index of the day that the report was issued, since the release of the report may have driven a change under our hypothesis. Therefore, we use the <code>side</code> keyword argument to return the index to the right of the report date, and subtract <code>1</code> from the results to give the index of the last issued report."
   ]
  },
  {
   "cell_type": "code",
   "execution_count": 30,
   "metadata": {},
   "outputs": [],
   "source": [
    "last_issued_index = report_dates.searchsorted(price_changes.index, side='right') - 1"
   ]
  },
  {
   "cell_type": "code",
   "execution_count": 31,
   "metadata": {},
   "outputs": [
    {
     "data": {
      "text/plain": [
       "array([  0,   0,   0, ..., 664, 664, 664])"
      ]
     },
     "execution_count": 31,
     "metadata": {},
     "output_type": "execute_result"
    }
   ],
   "source": [
    "last_issued_index"
   ]
  },
  {
   "cell_type": "code",
   "execution_count": 32,
   "metadata": {},
   "outputs": [
    {
     "data": {
      "text/plain": [
       "DatetimeIndex(['2011-08-10 00:00:00-04:00', '2011-08-10 00:00:00-04:00',\n",
       "               '2011-08-10 00:00:00-04:00', '2011-08-10 00:00:00-04:00',\n",
       "               '2011-08-10 00:00:00-04:00', '2011-08-17 00:00:00-04:00',\n",
       "               '2011-08-17 00:00:00-04:00', '2011-08-17 00:00:00-04:00',\n",
       "               '2011-08-17 00:00:00-04:00', '2011-08-17 00:00:00-04:00',\n",
       "               ...\n",
       "               '2024-04-17 00:00:00-04:00', '2024-04-17 00:00:00-04:00',\n",
       "               '2024-04-24 00:00:00-04:00', '2024-04-24 00:00:00-04:00',\n",
       "               '2024-04-24 00:00:00-04:00', '2024-04-24 00:00:00-04:00',\n",
       "               '2024-04-24 00:00:00-04:00', '2024-05-01 00:00:00-04:00',\n",
       "               '2024-05-01 00:00:00-04:00', '2024-05-01 00:00:00-04:00'],\n",
       "              dtype='datetime64[ns, America/New_York]', name='Report Date', length=3198, freq=None)"
      ]
     },
     "execution_count": 32,
     "metadata": {},
     "output_type": "execute_result"
    }
   ],
   "source": [
    "report_dates[last_issued_index]"
   ]
  },
  {
   "cell_type": "markdown",
   "metadata": {},
   "source": [
    "Since we have a list of values equal to length of the <code>price_changes</code>, we can pass these into the <code>pd.Series.groupby</code> as the mapper to determine the groups based on the list values, in this case, the last report date. Then, we can use the <code>sum</code> aggregator to return the total price change percentage for the days following a WPSR report."
   ]
  },
  {
   "cell_type": "code",
   "execution_count": 33,
   "metadata": {},
   "outputs": [],
   "source": [
    "report_impact = price_changes.groupby(report_dates[last_issued_index]).sum()"
   ]
  },
  {
   "cell_type": "code",
   "execution_count": 34,
   "metadata": {},
   "outputs": [
    {
     "data": {
      "text/plain": [
       "Report Date\n",
       "2011-08-10 00:00:00-04:00    7.111262\n",
       "2011-08-17 00:00:00-04:00   -0.787683\n",
       "2011-08-24 00:00:00-04:00    3.748321\n",
       "2011-08-31 00:00:00-04:00    0.397778\n",
       "2011-09-08 00:00:00-04:00    0.235214\n",
       "dtype: float64"
      ]
     },
     "execution_count": 34,
     "metadata": {},
     "output_type": "execute_result"
    }
   ],
   "source": [
    "report_impact.head()"
   ]
  },
  {
   "cell_type": "markdown",
   "metadata": {},
   "source": [
    "Let's create a new dataframe containing the reported inventory level and the subsequent spot price change:"
   ]
  },
  {
   "cell_type": "code",
   "execution_count": 35,
   "metadata": {},
   "outputs": [],
   "source": [
    "market_impact = pd.DataFrame()\n",
    "market_impact['inv_change'] = inv['Weekly Commercial Draw/Build'].copy()\n",
    "market_impact['spot_change'] = report_impact.copy()\n",
    "market_impact = market_impact.dropna().round(4)"
   ]
  },
  {
   "cell_type": "code",
   "execution_count": 36,
   "metadata": {},
   "outputs": [
    {
     "data": {
      "text/html": [
       "<div>\n",
       "<style scoped>\n",
       "    .dataframe tbody tr th:only-of-type {\n",
       "        vertical-align: middle;\n",
       "    }\n",
       "\n",
       "    .dataframe tbody tr th {\n",
       "        vertical-align: top;\n",
       "    }\n",
       "\n",
       "    .dataframe thead th {\n",
       "        text-align: right;\n",
       "    }\n",
       "</style>\n",
       "<table border=\"1\" class=\"dataframe\">\n",
       "  <thead>\n",
       "    <tr style=\"text-align: right;\">\n",
       "      <th></th>\n",
       "      <th>inv_change</th>\n",
       "      <th>spot_change</th>\n",
       "    </tr>\n",
       "    <tr>\n",
       "      <th>Report Date</th>\n",
       "      <th></th>\n",
       "      <th></th>\n",
       "    </tr>\n",
       "  </thead>\n",
       "  <tbody>\n",
       "    <tr>\n",
       "      <th>2011-08-10 00:00:00-04:00</th>\n",
       "      <td>-5.225</td>\n",
       "      <td>7.1113</td>\n",
       "    </tr>\n",
       "    <tr>\n",
       "      <th>2011-08-17 00:00:00-04:00</th>\n",
       "      <td>4.233</td>\n",
       "      <td>-0.7877</td>\n",
       "    </tr>\n",
       "    <tr>\n",
       "      <th>2011-08-24 00:00:00-04:00</th>\n",
       "      <td>-2.213</td>\n",
       "      <td>3.7483</td>\n",
       "    </tr>\n",
       "    <tr>\n",
       "      <th>2011-08-31 00:00:00-04:00</th>\n",
       "      <td>5.281</td>\n",
       "      <td>0.3978</td>\n",
       "    </tr>\n",
       "    <tr>\n",
       "      <th>2011-09-08 00:00:00-04:00</th>\n",
       "      <td>-3.963</td>\n",
       "      <td>0.2352</td>\n",
       "    </tr>\n",
       "  </tbody>\n",
       "</table>\n",
       "</div>"
      ],
      "text/plain": [
       "                           inv_change  spot_change\n",
       "Report Date                                       \n",
       "2011-08-10 00:00:00-04:00      -5.225       7.1113\n",
       "2011-08-17 00:00:00-04:00       4.233      -0.7877\n",
       "2011-08-24 00:00:00-04:00      -2.213       3.7483\n",
       "2011-08-31 00:00:00-04:00       5.281       0.3978\n",
       "2011-09-08 00:00:00-04:00      -3.963       0.2352"
      ]
     },
     "execution_count": 36,
     "metadata": {},
     "output_type": "execute_result"
    }
   ],
   "source": [
    "market_impact.head()"
   ]
  },
  {
   "cell_type": "markdown",
   "metadata": {},
   "source": [
    "<h2>Visualising the distribution</h2>"
   ]
  },
  {
   "cell_type": "code",
   "execution_count": 37,
   "metadata": {},
   "outputs": [
    {
     "data": {
      "text/plain": [
       "Text(0, 0.5, 'Week-following Spot Price Change (%)')"
      ]
     },
     "execution_count": 37,
     "metadata": {},
     "output_type": "execute_result"
    },
    {
     "data": {
      "image/png": "[encoded data removed]",
      "text/plain": [
       "<Figure size 1000x600 with 2 Axes>"
      ]
     },
     "metadata": {},
     "output_type": "display_data"
    }
   ],
   "source": [
    "y = market_impact.spot_change\n",
    "x = market_impact.inv_change\n",
    "\n",
    "plt.figure(figsize=(10, 6))\n",
    "plt.scatter(x, y, c=y, marker='v', cmap='coolwarm')\n",
    "plt.colorbar()\n",
    "plt.xlabel('Inventory Change (MB)')\n",
    "plt.ylabel('Week-following Spot Price Change (%)')"
   ]
  },
  {
   "cell_type": "markdown",
   "metadata": {},
   "source": [
    "This distribution predominantly resembles a Bivariate normal distribution.\n",
    "\n",
    "We can test for the correlation between the Inventory Change and the Spot price Change using Pearsons Correlation Coefficient:"
   ]
  },
  {
   "cell_type": "markdown",
   "metadata": {},
   "source": [
    "<h4>Covariance</h4>"
   ]
  },
  {
   "cell_type": "markdown",
   "metadata": {},
   "source": [
    "$Cov(X, Y) = E[(X - E[X])(Y - E[Y])]$"
   ]
  },
  {
   "cell_type": "code",
   "execution_count": 38,
   "metadata": {},
   "outputs": [
    {
     "data": {
      "text/plain": [
       "-0.4579419168244406"
      ]
     },
     "execution_count": 38,
     "metadata": {},
     "output_type": "execute_result"
    }
   ],
   "source": [
    "cov = market_impact['inv_change'].cov(market_impact['spot_change'])\n",
    "cov"
   ]
  },
  {
   "cell_type": "markdown",
   "metadata": {},
   "source": [
    "<h4>Correlation Coefficient</h4>"
   ]
  },
  {
   "cell_type": "markdown",
   "metadata": {},
   "source": [
    "$\\rho_{X,Y} = \\frac{Cov(X, Y)}{\\sigma_X \\sigma_Y}$"
   ]
  },
  {
   "cell_type": "code",
   "execution_count": 39,
   "metadata": {},
   "outputs": [],
   "source": [
    "rho = cov / (market_impact['inv_change'].std() * market_impact['spot_change'].std())"
   ]
  },
  {
   "cell_type": "code",
   "execution_count": 40,
   "metadata": {},
   "outputs": [
    {
     "data": {
      "text/plain": [
       "-0.01640319681912859"
      ]
     },
     "execution_count": 40,
     "metadata": {},
     "output_type": "execute_result"
    }
   ],
   "source": [
    "rho"
   ]
  },
  {
   "cell_type": "markdown",
   "metadata": {},
   "source": [
    "<h2>Statistical Analysis: Correlation or no correlation?</h2>"
   ]
  },
  {
   "cell_type": "markdown",
   "metadata": {},
   "source": [
    "<h3>Pearson Correlation</h3>"
   ]
  },
  {
   "cell_type": "code",
   "execution_count": 43,
   "metadata": {},
   "outputs": [],
   "source": [
    "from scipy.stats import pearsonr"
   ]
  },
  {
   "cell_type": "markdown",
   "metadata": {},
   "source": [
    "This function performs a test of the null hypothesis that the distributions underlying the samples are uncorrelated and normally distributed."
   ]
  },
  {
   "cell_type": "code",
   "execution_count": 46,
   "metadata": {},
   "outputs": [
    {
     "data": {
      "text/html": [
       "<div>\n",
       "<style scoped>\n",
       "    .dataframe tbody tr th:only-of-type {\n",
       "        vertical-align: middle;\n",
       "    }\n",
       "\n",
       "    .dataframe tbody tr th {\n",
       "        vertical-align: top;\n",
       "    }\n",
       "\n",
       "    .dataframe thead th {\n",
       "        text-align: right;\n",
       "    }\n",
       "</style>\n",
       "<table border=\"1\" class=\"dataframe\">\n",
       "  <thead>\n",
       "    <tr style=\"text-align: right;\">\n",
       "      <th></th>\n",
       "      <th>inv_change</th>\n",
       "      <th>spot_change</th>\n",
       "    </tr>\n",
       "  </thead>\n",
       "  <tbody>\n",
       "    <tr>\n",
       "      <th>inv_change</th>\n",
       "      <td>1.000000</td>\n",
       "      <td>-0.016403</td>\n",
       "    </tr>\n",
       "    <tr>\n",
       "      <th>spot_change</th>\n",
       "      <td>-0.016403</td>\n",
       "      <td>1.000000</td>\n",
       "    </tr>\n",
       "  </tbody>\n",
       "</table>\n",
       "</div>"
      ],
      "text/plain": [
       "             inv_change  spot_change\n",
       "inv_change     1.000000    -0.016403\n",
       "spot_change   -0.016403     1.000000"
      ]
     },
     "execution_count": 46,
     "metadata": {},
     "output_type": "execute_result"
    }
   ],
   "source": [
    "market_impact.corr(method='pearson')"
   ]
  },
  {
   "cell_type": "code",
   "execution_count": 45,
   "metadata": {},
   "outputs": [
    {
     "data": {
      "text/plain": [
       "PearsonRResult(statistic=-0.01640319681912858, pvalue=0.6728559880774051)"
      ]
     },
     "execution_count": 45,
     "metadata": {},
     "output_type": "execute_result"
    }
   ],
   "source": [
    "pearsonr(market_impact.inv_change.values, market_impact.spot_change.values)"
   ]
  },
  {
   "cell_type": "markdown",
   "metadata": {},
   "source": [
    "<h3>Kendall (Ordinal) Correlation</h3>"
   ]
  },
  {
   "cell_type": "code",
   "execution_count": 341,
   "metadata": {},
   "outputs": [
    {
     "data": {
      "text/html": [
       "<div>\n",
       "<style scoped>\n",
       "    .dataframe tbody tr th:only-of-type {\n",
       "        vertical-align: middle;\n",
       "    }\n",
       "\n",
       "    .dataframe tbody tr th {\n",
       "        vertical-align: top;\n",
       "    }\n",
       "\n",
       "    .dataframe thead th {\n",
       "        text-align: right;\n",
       "    }\n",
       "</style>\n",
       "<table border=\"1\" class=\"dataframe\">\n",
       "  <thead>\n",
       "    <tr style=\"text-align: right;\">\n",
       "      <th></th>\n",
       "      <th>inv_change</th>\n",
       "      <th>spot_change</th>\n",
       "    </tr>\n",
       "  </thead>\n",
       "  <tbody>\n",
       "    <tr>\n",
       "      <th>inv_change</th>\n",
       "      <td>1.00000</td>\n",
       "      <td>-0.04591</td>\n",
       "    </tr>\n",
       "    <tr>\n",
       "      <th>spot_change</th>\n",
       "      <td>-0.04591</td>\n",
       "      <td>1.00000</td>\n",
       "    </tr>\n",
       "  </tbody>\n",
       "</table>\n",
       "</div>"
      ],
      "text/plain": [
       "             inv_change  spot_change\n",
       "inv_change      1.00000     -0.04591\n",
       "spot_change    -0.04591      1.00000"
      ]
     },
     "execution_count": 341,
     "metadata": {},
     "output_type": "execute_result"
    }
   ],
   "source": [
    "market_impact.corr(method='kendall')"
   ]
  },
  {
   "cell_type": "markdown",
   "metadata": {},
   "source": [
    "<h3>Spearman Rank Correlation</h3>"
   ]
  },
  {
   "cell_type": "code",
   "execution_count": 342,
   "metadata": {},
   "outputs": [
    {
     "data": {
      "text/html": [
       "<div>\n",
       "<style scoped>\n",
       "    .dataframe tbody tr th:only-of-type {\n",
       "        vertical-align: middle;\n",
       "    }\n",
       "\n",
       "    .dataframe tbody tr th {\n",
       "        vertical-align: top;\n",
       "    }\n",
       "\n",
       "    .dataframe thead th {\n",
       "        text-align: right;\n",
       "    }\n",
       "</style>\n",
       "<table border=\"1\" class=\"dataframe\">\n",
       "  <thead>\n",
       "    <tr style=\"text-align: right;\">\n",
       "      <th></th>\n",
       "      <th>inv_change</th>\n",
       "      <th>spot_change</th>\n",
       "    </tr>\n",
       "  </thead>\n",
       "  <tbody>\n",
       "    <tr>\n",
       "      <th>inv_change</th>\n",
       "      <td>1.000000</td>\n",
       "      <td>-0.068875</td>\n",
       "    </tr>\n",
       "    <tr>\n",
       "      <th>spot_change</th>\n",
       "      <td>-0.068875</td>\n",
       "      <td>1.000000</td>\n",
       "    </tr>\n",
       "  </tbody>\n",
       "</table>\n",
       "</div>"
      ],
      "text/plain": [
       "             inv_change  spot_change\n",
       "inv_change     1.000000    -0.068875\n",
       "spot_change   -0.068875     1.000000"
      ]
     },
     "execution_count": 342,
     "metadata": {},
     "output_type": "execute_result"
    }
   ],
   "source": [
    "market_impact.corr(method='spearman')"
   ]
  },
  {
   "cell_type": "markdown",
   "metadata": {},
   "source": [
    "<h3>Using dichotomous variables</h3>"
   ]
  },
  {
   "cell_type": "code",
   "execution_count": 343,
   "metadata": {},
   "outputs": [
    {
     "data": {
      "text/plain": [
       "Text(0, 0.5, 'Week-following Spot Price Direction [-1, 1]')"
      ]
     },
     "execution_count": 343,
     "metadata": {},
     "output_type": "execute_result"
    },
    {
     "data": {
      "image/png": "[encoded data removed]",
      "text/plain": [
       "<Figure size 1000x600 with 2 Axes>"
      ]
     },
     "metadata": {},
     "output_type": "display_data"
    }
   ],
   "source": [
    "y = np.where(market_impact.spot_change > 0, 1, -1)\n",
    "x = market_impact.inv_change\n",
    "\n",
    "plt.figure(figsize=(10, 6))\n",
    "plt.scatter(x, y, c=x, marker='v', cmap='coolwarm')\n",
    "plt.colorbar()\n",
    "plt.xlabel('Inventory Change (MB)')\n",
    "plt.ylabel('Week-following Spot Price Direction [-1, 1]')"
   ]
  },
  {
   "cell_type": "code",
   "execution_count": 344,
   "metadata": {},
   "outputs": [
    {
     "data": {
      "text/plain": [
       "-0.21777172429294"
      ]
     },
     "execution_count": 344,
     "metadata": {},
     "output_type": "execute_result"
    }
   ],
   "source": [
    "market_impact[market_impact.inv_change>0]['spot_change'].mean()"
   ]
  },
  {
   "cell_type": "code",
   "execution_count": 345,
   "metadata": {},
   "outputs": [
    {
     "data": {
      "text/plain": [
       "0.3248779860856204"
      ]
     },
     "execution_count": 345,
     "metadata": {},
     "output_type": "execute_result"
    }
   ],
   "source": [
    "market_impact[market_impact.inv_change<0]['spot_change'].mean()"
   ]
  },
  {
   "cell_type": "code",
   "execution_count": 347,
   "metadata": {},
   "outputs": [],
   "source": [
    "change_dir = np.where(market_impact.spot_change > 0, 1, -1)"
   ]
  },
  {
   "cell_type": "code",
   "execution_count": 348,
   "metadata": {},
   "outputs": [],
   "source": [
    "inv_dir = np.where(market_impact.inv_change > 0, 1, -1)"
   ]
  },
  {
   "cell_type": "code",
   "execution_count": 350,
   "metadata": {},
   "outputs": [
    {
     "data": {
      "text/plain": [
       "array([[ 1.        , -0.05801712],\n",
       "       [-0.05801712,  1.        ]])"
      ]
     },
     "execution_count": 350,
     "metadata": {},
     "output_type": "execute_result"
    }
   ],
   "source": [
    "np.corrcoef(market_impact.inv_change, change_dir)"
   ]
  },
  {
   "cell_type": "markdown",
   "metadata": {},
   "source": [
    "<h3>Considering only the report date</h3>"
   ]
  },
  {
   "cell_type": "code",
   "execution_count": 351,
   "metadata": {},
   "outputs": [],
   "source": [
    "shared_index = report_dates.intersection(price_changes.index)"
   ]
  },
  {
   "cell_type": "code",
   "execution_count": 352,
   "metadata": {},
   "outputs": [],
   "source": [
    "report_impact = price_changes.loc[shared_index]"
   ]
  },
  {
   "cell_type": "code",
   "execution_count": 383,
   "metadata": {},
   "outputs": [],
   "source": [
    "market_impact = pd.DataFrame()\n",
    "market_impact['inv_change'] = inv.loc[shared_index, 'Weekly Commercial Draw/Build'].copy()\n",
    "market_impact['spot_change'] = report_impact.loc[shared_index].copy()"
   ]
  },
  {
   "cell_type": "code",
   "execution_count": 384,
   "metadata": {},
   "outputs": [
    {
     "data": {
      "text/plain": [
       "Text(0, 0.5, 'Week-following Spot Price Change (%)')"
      ]
     },
     "execution_count": 384,
     "metadata": {},
     "output_type": "execute_result"
    },
    {
     "data": {
      "image/png": "[encoded data removed]",
      "text/plain": [
       "<Figure size 1000x600 with 2 Axes>"
      ]
     },
     "metadata": {},
     "output_type": "display_data"
    }
   ],
   "source": [
    "y = market_impact.spot_change\n",
    "x = market_impact.inv_change\n",
    "\n",
    "plt.figure(figsize=(10, 6))\n",
    "plt.scatter(x, y, c=y, marker='v', cmap='coolwarm')\n",
    "plt.colorbar()\n",
    "plt.xlabel('Inventory Change (MB)')\n",
    "plt.ylabel('Week-following Spot Price Change (%)')"
   ]
  },
  {
   "cell_type": "code",
   "execution_count": 385,
   "metadata": {},
   "outputs": [
    {
     "data": {
      "text/html": [
       "<div>\n",
       "<style scoped>\n",
       "    .dataframe tbody tr th:only-of-type {\n",
       "        vertical-align: middle;\n",
       "    }\n",
       "\n",
       "    .dataframe tbody tr th {\n",
       "        vertical-align: top;\n",
       "    }\n",
       "\n",
       "    .dataframe thead th {\n",
       "        text-align: right;\n",
       "    }\n",
       "</style>\n",
       "<table border=\"1\" class=\"dataframe\">\n",
       "  <thead>\n",
       "    <tr style=\"text-align: right;\">\n",
       "      <th></th>\n",
       "      <th>inv_change</th>\n",
       "      <th>spot_change</th>\n",
       "    </tr>\n",
       "  </thead>\n",
       "  <tbody>\n",
       "    <tr>\n",
       "      <th>inv_change</th>\n",
       "      <td>1.000000</td>\n",
       "      <td>0.013108</td>\n",
       "    </tr>\n",
       "    <tr>\n",
       "      <th>spot_change</th>\n",
       "      <td>0.013108</td>\n",
       "      <td>1.000000</td>\n",
       "    </tr>\n",
       "  </tbody>\n",
       "</table>\n",
       "</div>"
      ],
      "text/plain": [
       "             inv_change  spot_change\n",
       "inv_change     1.000000     0.013108\n",
       "spot_change    0.013108     1.000000"
      ]
     },
     "execution_count": 385,
     "metadata": {},
     "output_type": "execute_result"
    }
   ],
   "source": [
    "market_impact.corr()"
   ]
  },
  {
   "cell_type": "markdown",
   "metadata": {},
   "source": [
    "<h2>Testing the Null Hypothesis</h2>"
   ]
  },
  {
   "cell_type": "markdown",
   "metadata": {},
   "source": [
    "Permutation tests provide a direct approach to performing hypothesis tests and constructing confidence intervals. A permutation test for Pearson's correlation coefficient involves the following two steps:\n",
    "\n",
    "    Using the original paired data (xi, yi), randomly redefine the pairs to create a new data set (xi, yi′), where the i′ are a permutation of the set {1,...,n}. The permutation i′ is selected randomly, with equal probabilities placed on all n! possible permutations. This is equivalent to drawing the i′ randomly without replacement from the set {1, ..., n}. In bootstrapping, a closely related approach, the i and the i′ are equal and drawn with replacement from {1, ..., n};\n",
    "    Construct a correlation coefficient r from the randomized data.\n",
    "\n",
    "To perform the permutation test, repeat steps (1) and (2) a large number of times. The p-value for the permutation test is the proportion of the r values generated in step (2) that are larger than the Pearson correlation coefficient that was calculated from the original data. Here \"larger\" can mean either that the value is larger in magnitude, or larger in signed value, depending on whether a two-sided or one-sided test is desired. "
   ]
  },
  {
   "cell_type": "code",
   "execution_count": 393,
   "metadata": {},
   "outputs": [],
   "source": [
    "from scipy.stats import permutation_test"
   ]
  },
  {
   "cell_type": "code",
   "execution_count": null,
   "metadata": {},
   "outputs": [],
   "source": []
  },
  {
   "cell_type": "code",
   "execution_count": 386,
   "metadata": {},
   "outputs": [],
   "source": [
    "from scipy.stats import pearsonr"
   ]
  },
  {
   "cell_type": "code",
   "execution_count": 388,
   "metadata": {},
   "outputs": [],
   "source": [
    "def generate_new_data(xs, ys):\n",
    "    i_perm = np.random.randint(0, len(xs), (len(xs),))\n",
    "    y_i = market_impact.spot_change.iloc[i_perm].values\n",
    "\n",
    "    "
   ]
  },
  {
   "cell_type": "code",
   "execution_count": 389,
   "metadata": {},
   "outputs": [],
   "source": [
    "i_perm = np.random.randint(0, len(market_impact), (len(market_impact),))\n",
    "y_i = market_impact.spot_change.iloc[i_perm].values"
   ]
  },
  {
   "cell_type": "code",
   "execution_count": null,
   "metadata": {},
   "outputs": [],
   "source": [
    "repetitions = 100\n"
   ]
  },
  {
   "cell_type": "code",
   "execution_count": 381,
   "metadata": {},
   "outputs": [
    {
     "data": {
      "text/plain": [
       "665"
      ]
     },
     "execution_count": 381,
     "metadata": {},
     "output_type": "execute_result"
    }
   ],
   "source": [
    "len(market_impact)"
   ]
  },
  {
   "cell_type": "code",
   "execution_count": 382,
   "metadata": {},
   "outputs": [
    {
     "data": {
      "text/plain": [
       "664"
      ]
     },
     "execution_count": 382,
     "metadata": {},
     "output_type": "execute_result"
    }
   ],
   "source": [
    "len(market_impact.dropna())"
   ]
  },
  {
   "cell_type": "code",
   "execution_count": 391,
   "metadata": {},
   "outputs": [
    {
     "data": {
      "text/plain": [
       "PearsonRResult(statistic=0.03316774576355191, pvalue=0.39349436736035626)"
      ]
     },
     "execution_count": 391,
     "metadata": {},
     "output_type": "execute_result"
    }
   ],
   "source": [
    "pearsonr(market_impact.inv_change.values, y_i)"
   ]
  },
  {
   "cell_type": "code",
   "execution_count": 375,
   "metadata": {},
   "outputs": [],
   "source": [
    "x = market_impact.inv_change.values"
   ]
  },
  {
   "cell_type": "code",
   "execution_count": 394,
   "metadata": {},
   "outputs": [
    {
     "name": "stdout",
     "output_type": "stream",
     "text": [
      "Help on function permutation_test in module scipy.stats._resampling:\n",
      "\n",
      "permutation_test(data, statistic, *, permutation_type='independent', vectorized=None, n_resamples=9999, batch=None, alternative='two-sided', axis=0, random_state=None)\n",
      "    Performs a permutation test of a given statistic on provided data.\n",
      "\n",
      "    For independent sample statistics, the null hypothesis is that the data are\n",
      "    randomly sampled from the same distribution.\n",
      "    For paired sample statistics, two null hypothesis can be tested:\n",
      "    that the data are paired at random or that the data are assigned to samples\n",
      "    at random.\n",
      "\n",
      "    Parameters\n",
      "    ----------\n",
      "    data : iterable of array-like\n",
      "        Contains the samples, each of which is an array of observations.\n",
      "        Dimensions of sample arrays must be compatible for broadcasting except\n",
      "        along `axis`.\n",
      "    statistic : callable\n",
      "        Statistic for which the p-value of the hypothesis test is to be\n",
      "        calculated. `statistic` must be a callable that accepts samples\n",
      "        as separate arguments (e.g. ``statistic(*data)``) and returns the\n",
      "        resulting statistic.\n",
      "        If `vectorized` is set ``True``, `statistic` must also accept a keyword\n",
      "        argument `axis` and be vectorized to compute the statistic along the\n",
      "        provided `axis` of the sample arrays.\n",
      "    permutation_type : {'independent', 'samples', 'pairings'}, optional\n",
      "        The type of permutations to be performed, in accordance with the\n",
      "        null hypothesis. The first two permutation types are for paired sample\n",
      "        statistics, in which all samples contain the same number of\n",
      "        observations and observations with corresponding indices along `axis`\n",
      "        are considered to be paired; the third is for independent sample\n",
      "        statistics.\n",
      "\n",
      "        - ``'samples'`` : observations are assigned to different samples\n",
      "          but remain paired with the same observations from other samples.\n",
      "          This permutation type is appropriate for paired sample hypothesis\n",
      "          tests such as the Wilcoxon signed-rank test and the paired t-test.\n",
      "        - ``'pairings'`` : observations are paired with different observations,\n",
      "          but they remain within the same sample. This permutation type is\n",
      "          appropriate for association/correlation tests with statistics such\n",
      "          as Spearman's :math:`\\rho`, Kendall's :math:`\\tau`, and Pearson's\n",
      "          :math:`r`.\n",
      "        - ``'independent'`` (default) : observations are assigned to different\n",
      "          samples. Samples may contain different numbers of observations. This\n",
      "          permutation type is appropriate for independent sample hypothesis\n",
      "          tests such as the Mann-Whitney :math:`U` test and the independent\n",
      "          sample t-test.\n",
      "\n",
      "          Please see the Notes section below for more detailed descriptions\n",
      "          of the permutation types.\n",
      "\n",
      "    vectorized : bool, optional\n",
      "        If `vectorized` is set ``False``, `statistic` will not be passed\n",
      "        keyword argument `axis` and is expected to calculate the statistic\n",
      "        only for 1D samples. If ``True``, `statistic` will be passed keyword\n",
      "        argument `axis` and is expected to calculate the statistic along `axis`\n",
      "        when passed an ND sample array. If ``None`` (default), `vectorized`\n",
      "        will be set ``True`` if ``axis`` is a parameter of `statistic`. Use\n",
      "        of a vectorized statistic typically reduces computation time.\n",
      "    n_resamples : int or np.inf, default: 9999\n",
      "        Number of random permutations (resamples) used to approximate the null\n",
      "        distribution. If greater than or equal to the number of distinct\n",
      "        permutations, the exact null distribution will be computed.\n",
      "        Note that the number of distinct permutations grows very rapidly with\n",
      "        the sizes of samples, so exact tests are feasible only for very small\n",
      "        data sets.\n",
      "    batch : int, optional\n",
      "        The number of permutations to process in each call to `statistic`.\n",
      "        Memory usage is O( `batch` * ``n`` ), where ``n`` is the total size\n",
      "        of all samples, regardless of the value of `vectorized`. Default is\n",
      "        ``None``, in which case ``batch`` is the number of permutations.\n",
      "    alternative : {'two-sided', 'less', 'greater'}, optional\n",
      "        The alternative hypothesis for which the p-value is calculated.\n",
      "        For each alternative, the p-value is defined for exact tests as\n",
      "        follows.\n",
      "\n",
      "        - ``'greater'`` : the percentage of the null distribution that is\n",
      "          greater than or equal to the observed value of the test statistic.\n",
      "        - ``'less'`` : the percentage of the null distribution that is\n",
      "          less than or equal to the observed value of the test statistic.\n",
      "        - ``'two-sided'`` (default) : twice the smaller of the p-values above.\n",
      "\n",
      "        Note that p-values for randomized tests are calculated according to the\n",
      "        conservative (over-estimated) approximation suggested in [2]_ and [3]_\n",
      "        rather than the unbiased estimator suggested in [4]_. That is, when\n",
      "        calculating the proportion of the randomized null distribution that is\n",
      "        as extreme as the observed value of the test statistic, the values in\n",
      "        the numerator and denominator are both increased by one. An\n",
      "        interpretation of this adjustment is that the observed value of the\n",
      "        test statistic is always included as an element of the randomized\n",
      "        null distribution.\n",
      "        The convention used for two-sided p-values is not universal;\n",
      "        the observed test statistic and null distribution are returned in\n",
      "        case a different definition is preferred.\n",
      "\n",
      "    axis : int, default: 0\n",
      "        The axis of the (broadcasted) samples over which to calculate the\n",
      "        statistic. If samples have a different number of dimensions,\n",
      "        singleton dimensions are prepended to samples with fewer dimensions\n",
      "        before `axis` is considered.\n",
      "    random_state : {None, int, `numpy.random.Generator`,\n",
      "                    `numpy.random.RandomState`}, optional\n",
      "\n",
      "        Pseudorandom number generator state used to generate permutations.\n",
      "\n",
      "        If `random_state` is ``None`` (default), the\n",
      "        `numpy.random.RandomState` singleton is used.\n",
      "        If `random_state` is an int, a new ``RandomState`` instance is used,\n",
      "        seeded with `random_state`.\n",
      "        If `random_state` is already a ``Generator`` or ``RandomState``\n",
      "        instance then that instance is used.\n",
      "\n",
      "    Returns\n",
      "    -------\n",
      "    res : PermutationTestResult\n",
      "        An object with attributes:\n",
      "\n",
      "        statistic : float or ndarray\n",
      "            The observed test statistic of the data.\n",
      "        pvalue : float or ndarray\n",
      "            The p-value for the given alternative.\n",
      "        null_distribution : ndarray\n",
      "            The values of the test statistic generated under the null\n",
      "            hypothesis.\n",
      "\n",
      "    Notes\n",
      "    -----\n",
      "\n",
      "    The three types of permutation tests supported by this function are\n",
      "    described below.\n",
      "\n",
      "    **Unpaired statistics** (``permutation_type='independent'``):\n",
      "\n",
      "    The null hypothesis associated with this permutation type is that all\n",
      "    observations are sampled from the same underlying distribution and that\n",
      "    they have been assigned to one of the samples at random.\n",
      "\n",
      "    Suppose ``data`` contains two samples; e.g. ``a, b = data``.\n",
      "    When ``1 < n_resamples < binom(n, k)``, where\n",
      "\n",
      "    * ``k`` is the number of observations in ``a``,\n",
      "    * ``n`` is the total number of observations in ``a`` and ``b``, and\n",
      "    * ``binom(n, k)`` is the binomial coefficient (``n`` choose ``k``),\n",
      "\n",
      "    the data are pooled (concatenated), randomly assigned to either the first\n",
      "    or second sample, and the statistic is calculated. This process is\n",
      "    performed repeatedly, `permutation` times, generating a distribution of the\n",
      "    statistic under the null hypothesis. The statistic of the original\n",
      "    data is compared to this distribution to determine the p-value.\n",
      "\n",
      "    When ``n_resamples >= binom(n, k)``, an exact test is performed: the data\n",
      "    are *partitioned* between the samples in each distinct way exactly once,\n",
      "    and the exact null distribution is formed.\n",
      "    Note that for a given partitioning of the data between the samples,\n",
      "    only one ordering/permutation of the data *within* each sample is\n",
      "    considered. For statistics that do not depend on the order of the data\n",
      "    within samples, this dramatically reduces computational cost without\n",
      "    affecting the shape of the null distribution (because the frequency/count\n",
      "    of each value is affected by the same factor).\n",
      "\n",
      "    For ``a = [a1, a2, a3, a4]`` and ``b = [b1, b2, b3]``, an example of this\n",
      "    permutation type is ``x = [b3, a1, a2, b2]`` and ``y = [a4, b1, a3]``.\n",
      "    Because only one ordering/permutation of the data *within* each sample\n",
      "    is considered in an exact test, a resampling like ``x = [b3, a1, b2, a2]``\n",
      "    and ``y = [a4, a3, b1]`` would *not* be considered distinct from the\n",
      "    example above.\n",
      "\n",
      "    ``permutation_type='independent'`` does not support one-sample statistics,\n",
      "    but it can be applied to statistics with more than two samples. In this\n",
      "    case, if ``n`` is an array of the number of observations within each\n",
      "    sample, the number of distinct partitions is::\n",
      "\n",
      "        np.prod([binom(sum(n[i:]), sum(n[i+1:])) for i in range(len(n)-1)])\n",
      "\n",
      "    **Paired statistics, permute pairings** (``permutation_type='pairings'``):\n",
      "\n",
      "    The null hypothesis associated with this permutation type is that\n",
      "    observations within each sample are drawn from the same underlying\n",
      "    distribution and that pairings with elements of other samples are\n",
      "    assigned at random.\n",
      "\n",
      "    Suppose ``data`` contains only one sample; e.g. ``a, = data``, and we\n",
      "    wish to consider all possible pairings of elements of ``a`` with elements\n",
      "    of a second sample, ``b``. Let ``n`` be the number of observations in\n",
      "    ``a``, which must also equal the number of observations in ``b``.\n",
      "\n",
      "    When ``1 < n_resamples < factorial(n)``, the elements of ``a`` are\n",
      "    randomly permuted. The user-supplied statistic accepts one data argument,\n",
      "    say ``a_perm``, and calculates the statistic considering ``a_perm`` and\n",
      "    ``b``. This process is performed repeatedly, `permutation` times,\n",
      "    generating a distribution of the statistic under the null hypothesis.\n",
      "    The statistic of the original data is compared to this distribution to\n",
      "    determine the p-value.\n",
      "\n",
      "    When ``n_resamples >= factorial(n)``, an exact test is performed:\n",
      "    ``a`` is permuted in each distinct way exactly once. Therefore, the\n",
      "    `statistic` is computed for each unique pairing of samples between ``a``\n",
      "    and ``b`` exactly once.\n",
      "\n",
      "    For ``a = [a1, a2, a3]`` and ``b = [b1, b2, b3]``, an example of this\n",
      "    permutation type is ``a_perm = [a3, a1, a2]`` while ``b`` is left\n",
      "    in its original order.\n",
      "\n",
      "    ``permutation_type='pairings'`` supports ``data`` containing any number\n",
      "    of samples, each of which must contain the same number of observations.\n",
      "    All samples provided in ``data`` are permuted *independently*. Therefore,\n",
      "    if ``m`` is the number of samples and ``n`` is the number of observations\n",
      "    within each sample, then the number of permutations in an exact test is::\n",
      "\n",
      "        factorial(n)**m\n",
      "\n",
      "    Note that if a two-sample statistic, for example, does not inherently\n",
      "    depend on the order in which observations are provided - only on the\n",
      "    *pairings* of observations - then only one of the two samples should be\n",
      "    provided in ``data``. This dramatically reduces computational cost without\n",
      "    affecting the shape of the null distribution (because the frequency/count\n",
      "    of each value is affected by the same factor).\n",
      "\n",
      "    **Paired statistics, permute samples** (``permutation_type='samples'``):\n",
      "\n",
      "    The null hypothesis associated with this permutation type is that\n",
      "    observations within each pair are drawn from the same underlying\n",
      "    distribution and that the sample to which they are assigned is random.\n",
      "\n",
      "    Suppose ``data`` contains two samples; e.g. ``a, b = data``.\n",
      "    Let ``n`` be the number of observations in ``a``, which must also equal\n",
      "    the number of observations in ``b``.\n",
      "\n",
      "    When ``1 < n_resamples < 2**n``, the elements of ``a`` are ``b`` are\n",
      "    randomly swapped between samples (maintaining their pairings) and the\n",
      "    statistic is calculated. This process is performed repeatedly,\n",
      "    `permutation` times,  generating a distribution of the statistic under the\n",
      "    null hypothesis. The statistic of the original data is compared to this\n",
      "    distribution to determine the p-value.\n",
      "\n",
      "    When ``n_resamples >= 2**n``, an exact test is performed: the observations\n",
      "    are assigned to the two samples in each distinct way (while maintaining\n",
      "    pairings) exactly once.\n",
      "\n",
      "    For ``a = [a1, a2, a3]`` and ``b = [b1, b2, b3]``, an example of this\n",
      "    permutation type is ``x = [b1, a2, b3]`` and ``y = [a1, b2, a3]``.\n",
      "\n",
      "    ``permutation_type='samples'`` supports ``data`` containing any number\n",
      "    of samples, each of which must contain the same number of observations.\n",
      "    If ``data`` contains more than one sample, paired observations within\n",
      "    ``data`` are exchanged between samples *independently*. Therefore, if ``m``\n",
      "    is the number of samples and ``n`` is the number of observations within\n",
      "    each sample, then the number of permutations in an exact test is::\n",
      "\n",
      "        factorial(m)**n\n",
      "\n",
      "    Several paired-sample statistical tests, such as the Wilcoxon signed rank\n",
      "    test and paired-sample t-test, can be performed considering only the\n",
      "    *difference* between two paired elements. Accordingly, if ``data`` contains\n",
      "    only one sample, then the null distribution is formed by independently\n",
      "    changing the *sign* of each observation.\n",
      "\n",
      "    .. warning::\n",
      "        The p-value is calculated by counting the elements of the null\n",
      "        distribution that are as extreme or more extreme than the observed\n",
      "        value of the statistic. Due to the use of finite precision arithmetic,\n",
      "        some statistic functions return numerically distinct values when the\n",
      "        theoretical values would be exactly equal. In some cases, this could\n",
      "        lead to a large error in the calculated p-value. `permutation_test`\n",
      "        guards against this by considering elements in the null distribution\n",
      "        that are \"close\" (within a relative tolerance of 100 times the\n",
      "        floating point epsilon of inexact dtypes) to the observed\n",
      "        value of the test statistic as equal to the observed value of the\n",
      "        test statistic. However, the user is advised to inspect the null\n",
      "        distribution to assess whether this method of comparison is\n",
      "        appropriate, and if not, calculate the p-value manually. See example\n",
      "        below.\n",
      "\n",
      "    References\n",
      "    ----------\n",
      "\n",
      "    .. [1] R. A. Fisher. The Design of Experiments, 6th Ed (1951).\n",
      "    .. [2] B. Phipson and G. K. Smyth. \"Permutation P-values Should Never Be\n",
      "       Zero: Calculating Exact P-values When Permutations Are Randomly Drawn.\"\n",
      "       Statistical Applications in Genetics and Molecular Biology 9.1 (2010).\n",
      "    .. [3] M. D. Ernst. \"Permutation Methods: A Basis for Exact Inference\".\n",
      "       Statistical Science (2004).\n",
      "    .. [4] B. Efron and R. J. Tibshirani. An Introduction to the Bootstrap\n",
      "       (1993).\n",
      "\n",
      "    Examples\n",
      "    --------\n",
      "\n",
      "    Suppose we wish to test whether two samples are drawn from the same\n",
      "    distribution. Assume that the underlying distributions are unknown to us,\n",
      "    and that before observing the data, we hypothesized that the mean of the\n",
      "    first sample would be less than that of the second sample. We decide that\n",
      "    we will use the difference between the sample means as a test statistic,\n",
      "    and we will consider a p-value of 0.05 to be statistically significant.\n",
      "\n",
      "    For efficiency, we write the function defining the test statistic in a\n",
      "    vectorized fashion: the samples ``x`` and ``y`` can be ND arrays, and the\n",
      "    statistic will be calculated for each axis-slice along `axis`.\n",
      "\n",
      "    >>> import numpy as np\n",
      "    >>> def statistic(x, y, axis):\n",
      "    ...     return np.mean(x, axis=axis) - np.mean(y, axis=axis)\n",
      "\n",
      "    After collecting our data, we calculate the observed value of the test\n",
      "    statistic.\n",
      "\n",
      "    >>> from scipy.stats import norm\n",
      "    >>> rng = np.random.default_rng()\n",
      "    >>> x = norm.rvs(size=5, random_state=rng)\n",
      "    >>> y = norm.rvs(size=6, loc = 3, random_state=rng)\n",
      "    >>> statistic(x, y, 0)\n",
      "    -3.5411688580987266\n",
      "\n",
      "    Indeed, the test statistic is negative, suggesting that the true mean of\n",
      "    the distribution underlying ``x`` is less than that of the distribution\n",
      "    underlying ``y``. To determine the probability of this occurring by chance\n",
      "    if the two samples were drawn from the same distribution, we perform\n",
      "    a permutation test.\n",
      "\n",
      "    >>> from scipy.stats import permutation_test\n",
      "    >>> # because our statistic is vectorized, we pass `vectorized=True`\n",
      "    >>> # `n_resamples=np.inf` indicates that an exact test is to be performed\n",
      "    >>> res = permutation_test((x, y), statistic, vectorized=True,\n",
      "    ...                        n_resamples=np.inf, alternative='less')\n",
      "    >>> print(res.statistic)\n",
      "    -3.5411688580987266\n",
      "    >>> print(res.pvalue)\n",
      "    0.004329004329004329\n",
      "\n",
      "    The probability of obtaining a test statistic less than or equal to the\n",
      "    observed value under the null hypothesis is 0.4329%. This is less than our\n",
      "    chosen threshold of 5%, so we consider this to be significant evidence\n",
      "    against the null hypothesis in favor of the alternative.\n",
      "\n",
      "    Because the size of the samples above was small, `permutation_test` could\n",
      "    perform an exact test. For larger samples, we resort to a randomized\n",
      "    permutation test.\n",
      "\n",
      "    >>> x = norm.rvs(size=100, random_state=rng)\n",
      "    >>> y = norm.rvs(size=120, loc=0.3, random_state=rng)\n",
      "    >>> res = permutation_test((x, y), statistic, n_resamples=100000,\n",
      "    ...                        vectorized=True, alternative='less',\n",
      "    ...                        random_state=rng)\n",
      "    >>> print(res.statistic)\n",
      "    -0.5230459671240913\n",
      "    >>> print(res.pvalue)\n",
      "    0.00016999830001699983\n",
      "\n",
      "    The approximate probability of obtaining a test statistic less than or\n",
      "    equal to the observed value under the null hypothesis is 0.0225%. This is\n",
      "    again less than our chosen threshold of 5%, so again we have significant\n",
      "    evidence to reject the null hypothesis in favor of the alternative.\n",
      "\n",
      "    For large samples and number of permutations, the result is comparable to\n",
      "    that of the corresponding asymptotic test, the independent sample t-test.\n",
      "\n",
      "    >>> from scipy.stats import ttest_ind\n",
      "    >>> res_asymptotic = ttest_ind(x, y, alternative='less')\n",
      "    >>> print(res_asymptotic.pvalue)\n",
      "    0.00012688101537979522\n",
      "\n",
      "    The permutation distribution of the test statistic is provided for\n",
      "    further investigation.\n",
      "\n",
      "    >>> import matplotlib.pyplot as plt\n",
      "    >>> plt.hist(res.null_distribution, bins=50)\n",
      "    >>> plt.title(\"Permutation distribution of test statistic\")\n",
      "    >>> plt.xlabel(\"Value of Statistic\")\n",
      "    >>> plt.ylabel(\"Frequency\")\n",
      "    >>> plt.show()\n",
      "\n",
      "    Inspection of the null distribution is essential if the statistic suffers\n",
      "    from inaccuracy due to limited machine precision. Consider the following\n",
      "    case:\n",
      "\n",
      "    >>> from scipy.stats import pearsonr\n",
      "    >>> x = [1, 2, 4, 3]\n",
      "    >>> y = [2, 4, 6, 8]\n",
      "    >>> def statistic(x, y):\n",
      "    ...     return pearsonr(x, y).statistic\n",
      "    >>> res = permutation_test((x, y), statistic, vectorized=False,\n",
      "    ...                        permutation_type='pairings',\n",
      "    ...                        alternative='greater')\n",
      "    >>> r, pvalue, null = res.statistic, res.pvalue, res.null_distribution\n",
      "\n",
      "    In this case, some elements of the null distribution differ from the\n",
      "    observed value of the correlation coefficient ``r`` due to numerical noise.\n",
      "    We manually inspect the elements of the null distribution that are nearly\n",
      "    the same as the observed value of the test statistic.\n",
      "\n",
      "    >>> r\n",
      "    0.8\n",
      "    >>> unique = np.unique(null)\n",
      "    >>> unique\n",
      "    array([-1. , -0.8, -0.8, -0.6, -0.4, -0.2, -0.2,  0. ,  0.2,  0.2,  0.4,\n",
      "            0.6,  0.8,  0.8,  1. ]) # may vary\n",
      "    >>> unique[np.isclose(r, unique)].tolist()\n",
      "    [0.7999999999999999, 0.8]\n",
      "\n",
      "    If `permutation_test` were to perform the comparison naively, the\n",
      "    elements of the null distribution with value ``0.7999999999999999`` would\n",
      "    not be considered as extreme or more extreme as the observed value of the\n",
      "    statistic, so the calculated p-value would be too small.\n",
      "\n",
      "    >>> incorrect_pvalue = np.count_nonzero(null >= r) / len(null)\n",
      "    >>> incorrect_pvalue\n",
      "    0.1111111111111111  # may vary\n",
      "\n",
      "    Instead, `permutation_test` treats elements of the null distribution that\n",
      "    are within ``max(1e-14, abs(r)*1e-14)`` of the observed value of the\n",
      "    statistic ``r`` to be equal to ``r``.\n",
      "\n",
      "    >>> correct_pvalue = np.count_nonzero(null >= r - 1e-14) / len(null)\n",
      "    >>> correct_pvalue\n",
      "    0.16666666666666666\n",
      "    >>> res.pvalue == correct_pvalue\n",
      "    True\n",
      "\n",
      "    This method of comparison is expected to be accurate in most practical\n",
      "    situations, but the user is advised to assess this by inspecting the\n",
      "    elements of the null distribution that are close to the observed value\n",
      "    of the statistic. Also, consider the use of statistics that can be\n",
      "    calculated using exact arithmetic (e.g. integer statistics).\n",
      "\n"
     ]
    }
   ],
   "source": [
    "help(permutation_test)"
   ]
  },
  {
   "cell_type": "markdown",
   "metadata": {},
   "source": [
    "<h3>Bayesian Forecasting</h3>"
   ]
  },
  {
   "cell_type": "code",
   "execution_count": 145,
   "metadata": {},
   "outputs": [],
   "source": [
    "price_down = market_impact['spot_change'] < 0\n",
    "price_up = market_impact['spot_change'] > 0\n",
    "inv_down = market_impact['inv_change'] < 0\n",
    "inv_up = market_impact['inv_change'] > 0"
   ]
  },
  {
   "cell_type": "code",
   "execution_count": 146,
   "metadata": {},
   "outputs": [],
   "source": [
    "price_down_inv_down = len(market_impact[price_down&inv_down])\n",
    "price_down_inv_up = len(market_impact[price_down&inv_up])\n",
    "price_up_inv_down = len(market_impact[price_up&inv_down])\n",
    "price_up_inv_up = len(market_impact[price_up&inv_up])"
   ]
  },
  {
   "cell_type": "code",
   "execution_count": 147,
   "metadata": {},
   "outputs": [],
   "source": [
    "prob_pd = len(market_impact[price_down]) / (len(market_impact[price_down]) + len(market_impact[price_up]))\n",
    "prob_pu = len(market_impact[price_up]) / (len(market_impact[price_down]) + len(market_impact[price_up]))\n",
    "\n",
    "prob_id = len(market_impact[inv_down]) / (len(market_impact[inv_down]) + len(market_impact[inv_up]))\n",
    "prob_iu = len(market_impact[inv_up]) / (len(market_impact[inv_down]) + len(market_impact[inv_up]))"
   ]
  },
  {
   "cell_type": "markdown",
   "metadata": {},
   "source": [
    "$$P(price_d | inventory_i) = \\frac{P(price_d) \\times P(inventory_i|price_d)}{P(inventory_i)}$$"
   ]
  },
  {
   "cell_type": "markdown",
   "metadata": {},
   "source": [
    "$P(inventory_i|price_d)$"
   ]
  },
  {
   "cell_type": "code",
   "execution_count": 148,
   "metadata": {},
   "outputs": [
    {
     "data": {
      "text/plain": [
       "0.5412371134020618"
      ]
     },
     "execution_count": 148,
     "metadata": {},
     "output_type": "execute_result"
    }
   ],
   "source": [
    "prob_ii_pd = price_down_inv_up / (price_down_inv_down + price_down_inv_up)\n",
    "prob_ii_pd"
   ]
  },
  {
   "cell_type": "markdown",
   "metadata": {},
   "source": [
    "$P(price_d)$"
   ]
  },
  {
   "cell_type": "code",
   "execution_count": 149,
   "metadata": {},
   "outputs": [
    {
     "data": {
      "text/plain": [
       "0.4813895781637717"
      ]
     },
     "execution_count": 149,
     "metadata": {},
     "output_type": "execute_result"
    }
   ],
   "source": [
    "prob_pd"
   ]
  },
  {
   "cell_type": "markdown",
   "metadata": {},
   "source": [
    "$P(inventory_i)$"
   ]
  },
  {
   "cell_type": "code",
   "execution_count": 150,
   "metadata": {},
   "outputs": [
    {
     "data": {
      "text/plain": [
       "0.5062034739454094"
      ]
     },
     "execution_count": 150,
     "metadata": {},
     "output_type": "execute_result"
    }
   ],
   "source": [
    "prob_iu"
   ]
  },
  {
   "cell_type": "code",
   "execution_count": 151,
   "metadata": {},
   "outputs": [],
   "source": [
    "prob_pd_ii = (prob_pd * prob_ii_pd) / prob_iu"
   ]
  },
  {
   "cell_type": "code",
   "execution_count": 152,
   "metadata": {},
   "outputs": [
    {
     "data": {
      "text/plain": [
       "0.5147058823529411"
      ]
     },
     "execution_count": 152,
     "metadata": {},
     "output_type": "execute_result"
    }
   ],
   "source": [
    "prob_pd_ii"
   ]
  },
  {
   "cell_type": "code",
   "execution_count": null,
   "metadata": {},
   "outputs": [],
   "source": []
  },
  {
   "cell_type": "code",
   "execution_count": null,
   "metadata": {},
   "outputs": [],
   "source": []
  },
  {
   "cell_type": "code",
   "execution_count": 128,
   "metadata": {},
   "outputs": [
    {
     "data": {
      "text/plain": [
       "0.5150602409638554"
      ]
     },
     "execution_count": 128,
     "metadata": {},
     "output_type": "execute_result"
    }
   ],
   "source": [
    "prob_iu"
   ]
  },
  {
   "cell_type": "code",
   "execution_count": 126,
   "metadata": {},
   "outputs": [
    {
     "data": {
      "text/plain": [
       "0.5142857142857142"
      ]
     },
     "execution_count": 126,
     "metadata": {},
     "output_type": "execute_result"
    }
   ],
   "source": [
    "prob_pu"
   ]
  },
  {
   "cell_type": "code",
   "execution_count": null,
   "metadata": {},
   "outputs": [],
   "source": []
  },
  {
   "cell_type": "code",
   "execution_count": 117,
   "metadata": {},
   "outputs": [
    {
     "data": {
      "text/plain": [
       "inv_change     180\n",
       "spot_change    180\n",
       "dtype: int64"
      ]
     },
     "execution_count": 117,
     "metadata": {},
     "output_type": "execute_result"
    }
   ],
   "source": [
    "price_down_inv_down"
   ]
  },
  {
   "cell_type": "code",
   "execution_count": null,
   "metadata": {},
   "outputs": [],
   "source": []
  },
  {
   "cell_type": "code",
   "execution_count": null,
   "metadata": {},
   "outputs": [],
   "source": []
  },
  {
   "cell_type": "code",
   "execution_count": null,
   "metadata": {},
   "outputs": [],
   "source": []
  },
  {
   "cell_type": "code",
   "execution_count": null,
   "metadata": {},
   "outputs": [],
   "source": []
  },
  {
   "cell_type": "code",
   "execution_count": null,
   "metadata": {},
   "outputs": [],
   "source": []
  },
  {
   "cell_type": "code",
   "execution_count": null,
   "metadata": {},
   "outputs": [],
   "source": []
  },
  {
   "cell_type": "code",
   "execution_count": 39,
   "metadata": {},
   "outputs": [],
   "source": [
    "stock_change_df = stock_summary[['Weekly Commercial Draw/Build', 'Weekly Commercial Draw/Build Rolling']].copy()"
   ]
  },
  {
   "cell_type": "code",
   "execution_count": 40,
   "metadata": {},
   "outputs": [],
   "source": [
    "price_stock_comparison_df = pd.merge(impact_df.set_index('Date')[['Change', 'Change%']], stock_change_df, left_index=True, right_index=True).dropna()"
   ]
  },
  {
   "cell_type": "code",
   "execution_count": 41,
   "metadata": {},
   "outputs": [
    {
     "data": {
      "text/html": [
       "<div>\n",
       "<style scoped>\n",
       "    .dataframe tbody tr th:only-of-type {\n",
       "        vertical-align: middle;\n",
       "    }\n",
       "\n",
       "    .dataframe tbody tr th {\n",
       "        vertical-align: top;\n",
       "    }\n",
       "\n",
       "    .dataframe thead th {\n",
       "        text-align: right;\n",
       "    }\n",
       "</style>\n",
       "<table border=\"1\" class=\"dataframe\">\n",
       "  <thead>\n",
       "    <tr style=\"text-align: right;\">\n",
       "      <th></th>\n",
       "      <th>Change</th>\n",
       "      <th>Change%</th>\n",
       "      <th>Weekly Commercial Draw/Build</th>\n",
       "      <th>Weekly Commercial Draw/Build Rolling</th>\n",
       "    </tr>\n",
       "  </thead>\n",
       "  <tbody>\n",
       "    <tr>\n",
       "      <th>2011-10-07 00:00:00-04:00</th>\n",
       "      <td>2.850014</td>\n",
       "      <td>3.449485</td>\n",
       "      <td>1.344</td>\n",
       "      <td>-17.347</td>\n",
       "    </tr>\n",
       "    <tr>\n",
       "      <th>2011-10-14 00:00:00-04:00</th>\n",
       "      <td>0.419998</td>\n",
       "      <td>0.618406</td>\n",
       "      <td>-4.729</td>\n",
       "      <td>-16.851</td>\n",
       "    </tr>\n",
       "    <tr>\n",
       "      <th>2011-10-21 00:00:00-04:00</th>\n",
       "      <td>7.189987</td>\n",
       "      <td>8.196544</td>\n",
       "      <td>4.735</td>\n",
       "      <td>-16.349</td>\n",
       "    </tr>\n",
       "    <tr>\n",
       "      <th>2011-10-28 00:00:00-04:00</th>\n",
       "      <td>0.650009</td>\n",
       "      <td>0.720678</td>\n",
       "      <td>1.826</td>\n",
       "      <td>-12.310</td>\n",
       "    </tr>\n",
       "    <tr>\n",
       "      <th>2011-11-04 00:00:00-04:00</th>\n",
       "      <td>3.169998</td>\n",
       "      <td>3.342859</td>\n",
       "      <td>-1.370</td>\n",
       "      <td>-18.961</td>\n",
       "    </tr>\n",
       "    <tr>\n",
       "      <th>...</th>\n",
       "      <td>...</td>\n",
       "      <td>...</td>\n",
       "      <td>...</td>\n",
       "      <td>...</td>\n",
       "    </tr>\n",
       "    <tr>\n",
       "      <th>2024-03-15 00:00:00-04:00</th>\n",
       "      <td>0.270012</td>\n",
       "      <td>0.368435</td>\n",
       "      <td>-1.952</td>\n",
       "      <td>12.639</td>\n",
       "    </tr>\n",
       "    <tr>\n",
       "      <th>2024-03-22 00:00:00-04:00</th>\n",
       "      <td>2.089996</td>\n",
       "      <td>2.570855</td>\n",
       "      <td>3.165</td>\n",
       "      <td>18.296</td>\n",
       "    </tr>\n",
       "    <tr>\n",
       "      <th>2024-03-29 00:00:00-04:00</th>\n",
       "      <td>2.579994</td>\n",
       "      <td>3.056967</td>\n",
       "      <td>3.210</td>\n",
       "      <td>30.739</td>\n",
       "    </tr>\n",
       "    <tr>\n",
       "      <th>2024-04-05 00:00:00-04:00</th>\n",
       "      <td>-1.409988</td>\n",
       "      <td>-1.616340</td>\n",
       "      <td>5.841</td>\n",
       "      <td>35.346</td>\n",
       "    </tr>\n",
       "    <tr>\n",
       "      <th>2024-04-12 00:00:00-04:00</th>\n",
       "      <td>-3.529984</td>\n",
       "      <td>-4.132165</td>\n",
       "      <td>2.735</td>\n",
       "      <td>32.561</td>\n",
       "    </tr>\n",
       "  </tbody>\n",
       "</table>\n",
       "<p>651 rows × 4 columns</p>\n",
       "</div>"
      ],
      "text/plain": [
       "                             Change   Change%  Weekly Commercial Draw/Build  \\\n",
       "2011-10-07 00:00:00-04:00  2.850014  3.449485                         1.344   \n",
       "2011-10-14 00:00:00-04:00  0.419998  0.618406                        -4.729   \n",
       "2011-10-21 00:00:00-04:00  7.189987  8.196544                         4.735   \n",
       "2011-10-28 00:00:00-04:00  0.650009  0.720678                         1.826   \n",
       "2011-11-04 00:00:00-04:00  3.169998  3.342859                        -1.370   \n",
       "...                             ...       ...                           ...   \n",
       "2024-03-15 00:00:00-04:00  0.270012  0.368435                        -1.952   \n",
       "2024-03-22 00:00:00-04:00  2.089996  2.570855                         3.165   \n",
       "2024-03-29 00:00:00-04:00  2.579994  3.056967                         3.210   \n",
       "2024-04-05 00:00:00-04:00 -1.409988 -1.616340                         5.841   \n",
       "2024-04-12 00:00:00-04:00 -3.529984 -4.132165                         2.735   \n",
       "\n",
       "                           Weekly Commercial Draw/Build Rolling  \n",
       "2011-10-07 00:00:00-04:00                               -17.347  \n",
       "2011-10-14 00:00:00-04:00                               -16.851  \n",
       "2011-10-21 00:00:00-04:00                               -16.349  \n",
       "2011-10-28 00:00:00-04:00                               -12.310  \n",
       "2011-11-04 00:00:00-04:00                               -18.961  \n",
       "...                                                         ...  \n",
       "2024-03-15 00:00:00-04:00                                12.639  \n",
       "2024-03-22 00:00:00-04:00                                18.296  \n",
       "2024-03-29 00:00:00-04:00                                30.739  \n",
       "2024-04-05 00:00:00-04:00                                35.346  \n",
       "2024-04-12 00:00:00-04:00                                32.561  \n",
       "\n",
       "[651 rows x 4 columns]"
      ]
     },
     "execution_count": 41,
     "metadata": {},
     "output_type": "execute_result"
    }
   ],
   "source": [
    "price_stock_comparison_df"
   ]
  },
  {
   "cell_type": "code",
   "execution_count": 42,
   "metadata": {},
   "outputs": [
    {
     "data": {
      "text/plain": [
       "-0.12347736396376473"
      ]
     },
     "execution_count": 42,
     "metadata": {},
     "output_type": "execute_result"
    }
   ],
   "source": [
    "price_stock_comparison_df['Weekly Commercial Draw/Build'].corr(price_stock_comparison_df['Change%'])"
   ]
  },
  {
   "cell_type": "code",
   "execution_count": 43,
   "metadata": {},
   "outputs": [
    {
     "data": {
      "text/plain": [
       "-0.06045717454494407"
      ]
     },
     "execution_count": 43,
     "metadata": {},
     "output_type": "execute_result"
    }
   ],
   "source": [
    "price_stock_comparison_df['Weekly Commercial Draw/Build Rolling'].corr(price_stock_comparison_df['Change'])"
   ]
  },
  {
   "cell_type": "code",
   "execution_count": 44,
   "metadata": {},
   "outputs": [
    {
     "data": {
      "text/plain": [
       "-0.10168917164587217"
      ]
     },
     "execution_count": 44,
     "metadata": {},
     "output_type": "execute_result"
    }
   ],
   "source": [
    "price_stock_comparison_df['Weekly Commercial Draw/Build Rolling'].corr(price_stock_comparison_df['Change%'])"
   ]
  },
  {
   "cell_type": "code",
   "execution_count": 45,
   "metadata": {},
   "outputs": [],
   "source": [
    "# TODO: Resample to monthly and compare general price movement to general inventory changes"
   ]
  },
  {
   "cell_type": "code",
   "execution_count": null,
   "metadata": {},
   "outputs": [],
   "source": []
  },
  {
   "cell_type": "code",
   "execution_count": 53,
   "metadata": {},
   "outputs": [
    {
     "ename": "KeyError",
     "evalue": "\"['Weekly Commercial Draw/Build Rolling (10 weeks)'] not in index\"",
     "output_type": "error",
     "traceback": [
      "\u001b[0;31m---------------------------------------------------------------------------\u001b[0m",
      "\u001b[0;31mKeyError\u001b[0m                                  Traceback (most recent call last)",
      "Cell \u001b[0;32mIn[53], line 1\u001b[0m\n\u001b[0;32m----> 1\u001b[0m \u001b[43mstock_summary\u001b[49m\u001b[43m[\u001b[49m\u001b[43m[\u001b[49m\u001b[38;5;124;43m'\u001b[39;49m\u001b[38;5;124;43mWeekly Commercial Draw/Build Rolling (10 weeks)\u001b[39;49m\u001b[38;5;124;43m'\u001b[39;49m\u001b[43m,\u001b[49m\u001b[43m \u001b[49m\u001b[38;5;124;43m'\u001b[39;49m\u001b[38;5;124;43mWeekly Commercial Draw/Build\u001b[39;49m\u001b[38;5;124;43m'\u001b[39;49m\u001b[43m]\u001b[49m\u001b[43m]\u001b[49m\u001b[38;5;241m.\u001b[39mplot()\n",
      "File \u001b[0;32m/opt/anaconda3/envs/py3.12.2/lib/python3.12/site-packages/pandas/core/frame.py:4108\u001b[0m, in \u001b[0;36mDataFrame.__getitem__\u001b[0;34m(self, key)\u001b[0m\n\u001b[1;32m   4106\u001b[0m     \u001b[38;5;28;01mif\u001b[39;00m is_iterator(key):\n\u001b[1;32m   4107\u001b[0m         key \u001b[38;5;241m=\u001b[39m \u001b[38;5;28mlist\u001b[39m(key)\n\u001b[0;32m-> 4108\u001b[0m     indexer \u001b[38;5;241m=\u001b[39m \u001b[38;5;28;43mself\u001b[39;49m\u001b[38;5;241;43m.\u001b[39;49m\u001b[43mcolumns\u001b[49m\u001b[38;5;241;43m.\u001b[39;49m\u001b[43m_get_indexer_strict\u001b[49m\u001b[43m(\u001b[49m\u001b[43mkey\u001b[49m\u001b[43m,\u001b[49m\u001b[43m \u001b[49m\u001b[38;5;124;43m\"\u001b[39;49m\u001b[38;5;124;43mcolumns\u001b[39;49m\u001b[38;5;124;43m\"\u001b[39;49m\u001b[43m)\u001b[49m[\u001b[38;5;241m1\u001b[39m]\n\u001b[1;32m   4110\u001b[0m \u001b[38;5;66;03m# take() does not accept boolean indexers\u001b[39;00m\n\u001b[1;32m   4111\u001b[0m \u001b[38;5;28;01mif\u001b[39;00m \u001b[38;5;28mgetattr\u001b[39m(indexer, \u001b[38;5;124m\"\u001b[39m\u001b[38;5;124mdtype\u001b[39m\u001b[38;5;124m\"\u001b[39m, \u001b[38;5;28;01mNone\u001b[39;00m) \u001b[38;5;241m==\u001b[39m \u001b[38;5;28mbool\u001b[39m:\n",
      "File \u001b[0;32m/opt/anaconda3/envs/py3.12.2/lib/python3.12/site-packages/pandas/core/indexes/base.py:6200\u001b[0m, in \u001b[0;36mIndex._get_indexer_strict\u001b[0;34m(self, key, axis_name)\u001b[0m\n\u001b[1;32m   6197\u001b[0m \u001b[38;5;28;01melse\u001b[39;00m:\n\u001b[1;32m   6198\u001b[0m     keyarr, indexer, new_indexer \u001b[38;5;241m=\u001b[39m \u001b[38;5;28mself\u001b[39m\u001b[38;5;241m.\u001b[39m_reindex_non_unique(keyarr)\n\u001b[0;32m-> 6200\u001b[0m \u001b[38;5;28;43mself\u001b[39;49m\u001b[38;5;241;43m.\u001b[39;49m\u001b[43m_raise_if_missing\u001b[49m\u001b[43m(\u001b[49m\u001b[43mkeyarr\u001b[49m\u001b[43m,\u001b[49m\u001b[43m \u001b[49m\u001b[43mindexer\u001b[49m\u001b[43m,\u001b[49m\u001b[43m \u001b[49m\u001b[43maxis_name\u001b[49m\u001b[43m)\u001b[49m\n\u001b[1;32m   6202\u001b[0m keyarr \u001b[38;5;241m=\u001b[39m \u001b[38;5;28mself\u001b[39m\u001b[38;5;241m.\u001b[39mtake(indexer)\n\u001b[1;32m   6203\u001b[0m \u001b[38;5;28;01mif\u001b[39;00m \u001b[38;5;28misinstance\u001b[39m(key, Index):\n\u001b[1;32m   6204\u001b[0m     \u001b[38;5;66;03m# GH 42790 - Preserve name from an Index\u001b[39;00m\n",
      "File \u001b[0;32m/opt/anaconda3/envs/py3.12.2/lib/python3.12/site-packages/pandas/core/indexes/base.py:6252\u001b[0m, in \u001b[0;36mIndex._raise_if_missing\u001b[0;34m(self, key, indexer, axis_name)\u001b[0m\n\u001b[1;32m   6249\u001b[0m     \u001b[38;5;28;01mraise\u001b[39;00m \u001b[38;5;167;01mKeyError\u001b[39;00m(\u001b[38;5;124mf\u001b[39m\u001b[38;5;124m\"\u001b[39m\u001b[38;5;124mNone of [\u001b[39m\u001b[38;5;132;01m{\u001b[39;00mkey\u001b[38;5;132;01m}\u001b[39;00m\u001b[38;5;124m] are in the [\u001b[39m\u001b[38;5;132;01m{\u001b[39;00maxis_name\u001b[38;5;132;01m}\u001b[39;00m\u001b[38;5;124m]\u001b[39m\u001b[38;5;124m\"\u001b[39m)\n\u001b[1;32m   6251\u001b[0m not_found \u001b[38;5;241m=\u001b[39m \u001b[38;5;28mlist\u001b[39m(ensure_index(key)[missing_mask\u001b[38;5;241m.\u001b[39mnonzero()[\u001b[38;5;241m0\u001b[39m]]\u001b[38;5;241m.\u001b[39munique())\n\u001b[0;32m-> 6252\u001b[0m \u001b[38;5;28;01mraise\u001b[39;00m \u001b[38;5;167;01mKeyError\u001b[39;00m(\u001b[38;5;124mf\u001b[39m\u001b[38;5;124m\"\u001b[39m\u001b[38;5;132;01m{\u001b[39;00mnot_found\u001b[38;5;132;01m}\u001b[39;00m\u001b[38;5;124m not in index\u001b[39m\u001b[38;5;124m\"\u001b[39m)\n",
      "\u001b[0;31mKeyError\u001b[0m: \"['Weekly Commercial Draw/Build Rolling (10 weeks)'] not in index\""
     ]
    }
   ],
   "source": [
    "stock_summary[['Weekly Commercial Draw/Build Rolling (10 weeks)', 'Weekly Commercial Draw/Build']].plot()"
   ]
  },
  {
   "cell_type": "code",
   "execution_count": 125,
   "metadata": {},
   "outputs": [
    {
     "data": {
      "text/plain": [
       "<Axes: >"
      ]
     },
     "execution_count": 125,
     "metadata": {},
     "output_type": "execute_result"
    },
    {
     "data": {
      "image/png": "[encoded data removed]",
      "text/plain": [
       "<Figure size 640x480 with 1 Axes>"
      ]
     },
     "metadata": {},
     "output_type": "display_data"
    }
   ],
   "source": [
    "stock_summary['Weekly Commercial Draw/Build'].tail(52).plot()"
   ]
  },
  {
   "cell_type": "code",
   "execution_count": 31,
   "metadata": {},
   "outputs": [
    {
     "data": {
      "text/plain": [
       "<Axes: >"
      ]
     },
     "execution_count": 31,
     "metadata": {},
     "output_type": "execute_result"
    },
    {
     "data": {
      "image/png": "[encoded data removed]",
      "text/plain": [
       "<Figure size 640x480 with 1 Axes>"
      ]
     },
     "metadata": {},
     "output_type": "display_data"
    }
   ],
   "source": [
    "stock_summary['SPR'].plot()"
   ]
  },
  {
   "cell_type": "code",
   "execution_count": 34,
   "metadata": {},
   "outputs": [
    {
     "data": {
      "text/plain": [
       "<Axes: >"
      ]
     },
     "execution_count": 34,
     "metadata": {},
     "output_type": "execute_result"
    },
    {
     "data": {
      "image/png": "[encoded data removed]",
      "text/plain": [
       "<Figure size 640x480 with 1 Axes>"
      ]
     },
     "metadata": {},
     "output_type": "display_data"
    }
   ],
   "source": [
    "stock_summary['Commercial Crude (Excluding SPR)'].plot()"
   ]
  },
  {
   "cell_type": "code",
   "execution_count": 33,
   "metadata": {},
   "outputs": [
    {
     "data": {
      "text/plain": [
       "<Axes: >"
      ]
     },
     "execution_count": 33,
     "metadata": {},
     "output_type": "execute_result"
    },
    {
     "data": {
      "image/png": "[encoded data removed]",
      "text/plain": [
       "<Figure size 640x480 with 1 Axes>"
      ]
     },
     "metadata": {},
     "output_type": "display_data"
    }
   ],
   "source": [
    "stock_summary[['Crude Oil', 'Commercial Crude (Excluding SPR)']].plot()"
   ]
  },
  {
   "cell_type": "code",
   "execution_count": 27,
   "metadata": {},
   "outputs": [
    {
     "data": {
      "text/plain": [
       "<Axes: >"
      ]
     },
     "execution_count": 27,
     "metadata": {},
     "output_type": "execute_result"
    },
    {
     "data": {
      "image/png": "[encoded data removed]",
      "text/plain": [
       "<Figure size 640x480 with 1 Axes>"
      ]
     },
     "metadata": {},
     "output_type": "display_data"
    }
   ],
   "source": [
    "stock_summary[['Total Stocks (Including SPR)', 'Total Stocks (Excluding SPR)']].plot()"
   ]
  },
  {
   "cell_type": "code",
   "execution_count": null,
   "metadata": {},
   "outputs": [],
   "source": []
  }
 ],
 "metadata": {
  "kernelspec": {
   "display_name": "py3.12.2",
   "language": "python",
   "name": "py3.12.2"
  },
  "language_info": {
   "codemirror_mode": {
    "name": "ipython",
    "version": 3
   },
   "file_extension": ".py",
   "mimetype": "text/x-python",
   "name": "python",
   "nbconvert_exporter": "python",
   "pygments_lexer": "ipython3",
   "version": "3.12.2"
  }
 },
 "nbformat": 4,
 "nbformat_minor": 4
}
